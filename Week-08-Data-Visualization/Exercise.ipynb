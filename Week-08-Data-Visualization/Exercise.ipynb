{
 "cells": [
  {
   "cell_type": "code",
   "execution_count": 5,
   "id": "cc2138ea",
   "metadata": {},
   "outputs": [
    {
     "name": "stdout",
     "output_type": "stream",
     "text": [
      "BX-Police.csv     Sales.csv         budget-sample.csv\r\n",
      "Iris.csv          Stocks.csv\r\n"
     ]
    }
   ],
   "source": [
    "! ls data/\n"
   ]
  },
  {
   "cell_type": "markdown",
   "id": "9cca801f",
   "metadata": {},
   "source": [
    "# Using budget-sample.csv\n",
    "* Plot a histogram of the base_salary.  Write one sentence about what this tells you about base salaries.\n",
    "* Make a boxplot of base salaries, what does this tell you about base salaries?\n",
    "* Make a boxplot of base salaries per (or by) work_location_borough, what does this tell you about the difference in working in each location?\n",
    "* Make a plot visualizing the difference average base salaries based on agency_name.  Who would you want to work for based on this information?\n",
    "<br><br>\n",
    "* __Tell me something new, cool, and interesting about this data__\n"
   ]
  },
  {
   "cell_type": "code",
   "execution_count": null,
   "id": "0b39cf6f",
   "metadata": {},
   "outputs": [],
   "source": []
  },
  {
   "cell_type": "code",
   "execution_count": null,
   "id": "c1b11da8",
   "metadata": {},
   "outputs": [],
   "source": []
  },
  {
   "cell_type": "code",
   "execution_count": null,
   "id": "68756718",
   "metadata": {},
   "outputs": [],
   "source": []
  },
  {
   "cell_type": "code",
   "execution_count": null,
   "id": "9e07ef12",
   "metadata": {},
   "outputs": [],
   "source": []
  },
  {
   "cell_type": "markdown",
   "id": "5fe01082",
   "metadata": {},
   "source": [
    "# Using the BX-Police.csv data:\n",
    "* create a time series chart illustrating their average base salary over time (by fiscal_year).  \n",
    "* What trend does this show? \n",
    "* Why do you think the trend exists?\n"
   ]
  },
  {
   "cell_type": "code",
   "execution_count": null,
   "id": "dc30ddab",
   "metadata": {},
   "outputs": [],
   "source": []
  },
  {
   "cell_type": "code",
   "execution_count": null,
   "id": "a4811143",
   "metadata": {},
   "outputs": [],
   "source": []
  },
  {
   "cell_type": "code",
   "execution_count": null,
   "id": "b213c02b",
   "metadata": {},
   "outputs": [],
   "source": []
  },
  {
   "cell_type": "markdown",
   "id": "9d3eb95b",
   "metadata": {},
   "source": [
    "# Using Stocks.csv\n",
    "* Tell me a story about the Google stock for the year. \n",
    "* Any story you'd like to tell. \n"
   ]
  },
  {
   "cell_type": "code",
   "execution_count": null,
   "id": "46f2609c",
   "metadata": {},
   "outputs": [],
   "source": []
  },
  {
   "cell_type": "code",
   "execution_count": null,
   "id": "e42382f5",
   "metadata": {},
   "outputs": [],
   "source": []
  },
  {
   "cell_type": "markdown",
   "id": "83c6113b",
   "metadata": {},
   "source": [
    "# Using Sales.csv \n",
    "* make a time series chart that shows the sales for each item over the past 12 months.  \n",
    "* What does this tell you about the items.  \n",
    "* Which item would you recommend they push more of and which item/s would you recommend they stop selling?\n",
    "* show what percentage of each item contributes to total sales. \n"
   ]
  },
  {
   "cell_type": "code",
   "execution_count": null,
   "id": "a26211af",
   "metadata": {},
   "outputs": [],
   "source": []
  }
 ],
 "metadata": {
  "kernelspec": {
   "display_name": "Python 3 (ipykernel)",
   "language": "python",
   "name": "python3"
  },
  "language_info": {
   "codemirror_mode": {
    "name": "ipython",
    "version": 3
   },
   "file_extension": ".py",
   "mimetype": "text/x-python",
   "name": "python",
   "nbconvert_exporter": "python",
   "pygments_lexer": "ipython3",
   "version": "3.8.5"
  }
 },
 "nbformat": 4,
 "nbformat_minor": 5
}
