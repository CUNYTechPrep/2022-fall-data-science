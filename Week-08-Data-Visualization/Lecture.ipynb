{
 "cells": [
  {
   "cell_type": "markdown",
   "id": "ae991a8c",
   "metadata": {},
   "source": [
    "# I want to make a map showing covid rates in the united states\n",
    "\n",
    "I found this data repo.  Lets look at see what is there...\n",
    "https://github.com/nytimes/covid-19-data/tree/master\n"
   ]
  }
 ],
 "metadata": {
  "kernelspec": {
   "display_name": "Python 3 (ipykernel)",
   "language": "python",
   "name": "python3"
  },
  "language_info": {
   "codemirror_mode": {
    "name": "ipython",
    "version": 3
   },
   "file_extension": ".py",
   "mimetype": "text/x-python",
   "name": "python",
   "nbconvert_exporter": "python",
   "pygments_lexer": "ipython3",
   "version": "3.8.5"
  }
 },
 "nbformat": 4,
 "nbformat_minor": 5
}
