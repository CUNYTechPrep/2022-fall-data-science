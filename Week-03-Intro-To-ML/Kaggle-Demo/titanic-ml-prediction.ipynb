{
 "cells": [
  {
   "cell_type": "code",
   "execution_count": 1,
   "id": "5ab06ae7",
   "metadata": {
    "execution": {
     "iopub.execute_input": "2022-09-14T09:19:47.332352Z",
     "iopub.status.busy": "2022-09-14T09:19:47.331031Z",
     "iopub.status.idle": "2022-09-14T09:19:48.447084Z",
     "shell.execute_reply": "2022-09-14T09:19:48.445953Z"
    },
    "id": "uIMeen9feV0e",
    "papermill": {
     "duration": 1.136155,
     "end_time": "2022-09-14T09:19:48.450105",
     "exception": false,
     "start_time": "2022-09-14T09:19:47.313950",
     "status": "completed"
    },
    "tags": []
   },
   "outputs": [],
   "source": [
    "# import library\n",
    "import pandas as pd\n",
    "import numpy as np\n",
    "import matplotlib.pyplot as plt\n",
    "import seaborn as sns"
   ]
  },
  {
   "cell_type": "code",
   "execution_count": null,
   "id": "fb123364",
   "metadata": {
    "id": "7kWxHrghIL_R",
    "outputId": "d4459c72-8cec-40db-c81b-6a605204fac1",
    "papermill": {
     "duration": 0.010217,
     "end_time": "2022-09-14T09:19:48.471098",
     "exception": false,
     "start_time": "2022-09-14T09:19:48.460881",
     "status": "completed"
    },
    "tags": []
   },
   "outputs": [],
   "source": []
  },
  {
   "cell_type": "code",
   "execution_count": 2,
   "id": "24c28948",
   "metadata": {
    "execution": {
     "iopub.execute_input": "2022-09-14T09:19:48.494280Z",
     "iopub.status.busy": "2022-09-14T09:19:48.493551Z",
     "iopub.status.idle": "2022-09-14T09:19:48.513830Z",
     "shell.execute_reply": "2022-09-14T09:19:48.512937Z"
    },
    "id": "YkH4R3_NeV0t",
    "papermill": {
     "duration": 0.034655,
     "end_time": "2022-09-14T09:19:48.516256",
     "exception": false,
     "start_time": "2022-09-14T09:19:48.481601",
     "status": "completed"
    },
    "tags": []
   },
   "outputs": [],
   "source": [
    "# load dataset\n",
    "df=pd.read_csv('../input/titanic/train.csv')"
   ]
  },
  {
   "cell_type": "code",
   "execution_count": 3,
   "id": "066a9a9b",
   "metadata": {
    "execution": {
     "iopub.execute_input": "2022-09-14T09:19:48.540942Z",
     "iopub.status.busy": "2022-09-14T09:19:48.540199Z",
     "iopub.status.idle": "2022-09-14T09:19:48.563782Z",
     "shell.execute_reply": "2022-09-14T09:19:48.562611Z"
    },
    "id": "wPc1tFY_eV0v",
    "outputId": "e72855b2-e615-417c-e718-a3c1d48debe1",
    "papermill": {
     "duration": 0.03824,
     "end_time": "2022-09-14T09:19:48.566459",
     "exception": false,
     "start_time": "2022-09-14T09:19:48.528219",
     "status": "completed"
    },
    "tags": []
   },
   "outputs": [
    {
     "data": {
      "text/html": [
       "<div>\n",
       "<style scoped>\n",
       "    .dataframe tbody tr th:only-of-type {\n",
       "        vertical-align: middle;\n",
       "    }\n",
       "\n",
       "    .dataframe tbody tr th {\n",
       "        vertical-align: top;\n",
       "    }\n",
       "\n",
       "    .dataframe thead th {\n",
       "        text-align: right;\n",
       "    }\n",
       "</style>\n",
       "<table border=\"1\" class=\"dataframe\">\n",
       "  <thead>\n",
       "    <tr style=\"text-align: right;\">\n",
       "      <th></th>\n",
       "      <th>PassengerId</th>\n",
       "      <th>Survived</th>\n",
       "      <th>Pclass</th>\n",
       "      <th>Name</th>\n",
       "      <th>Sex</th>\n",
       "      <th>Age</th>\n",
       "      <th>SibSp</th>\n",
       "      <th>Parch</th>\n",
       "      <th>Ticket</th>\n",
       "      <th>Fare</th>\n",
       "      <th>Cabin</th>\n",
       "      <th>Embarked</th>\n",
       "    </tr>\n",
       "  </thead>\n",
       "  <tbody>\n",
       "    <tr>\n",
       "      <th>0</th>\n",
       "      <td>1</td>\n",
       "      <td>0</td>\n",
       "      <td>3</td>\n",
       "      <td>Braund, Mr. Owen Harris</td>\n",
       "      <td>male</td>\n",
       "      <td>22.0</td>\n",
       "      <td>1</td>\n",
       "      <td>0</td>\n",
       "      <td>A/5 21171</td>\n",
       "      <td>7.2500</td>\n",
       "      <td>NaN</td>\n",
       "      <td>S</td>\n",
       "    </tr>\n",
       "    <tr>\n",
       "      <th>1</th>\n",
       "      <td>2</td>\n",
       "      <td>1</td>\n",
       "      <td>1</td>\n",
       "      <td>Cumings, Mrs. John Bradley (Florence Briggs Th...</td>\n",
       "      <td>female</td>\n",
       "      <td>38.0</td>\n",
       "      <td>1</td>\n",
       "      <td>0</td>\n",
       "      <td>PC 17599</td>\n",
       "      <td>71.2833</td>\n",
       "      <td>C85</td>\n",
       "      <td>C</td>\n",
       "    </tr>\n",
       "    <tr>\n",
       "      <th>2</th>\n",
       "      <td>3</td>\n",
       "      <td>1</td>\n",
       "      <td>3</td>\n",
       "      <td>Heikkinen, Miss. Laina</td>\n",
       "      <td>female</td>\n",
       "      <td>26.0</td>\n",
       "      <td>0</td>\n",
       "      <td>0</td>\n",
       "      <td>STON/O2. 3101282</td>\n",
       "      <td>7.9250</td>\n",
       "      <td>NaN</td>\n",
       "      <td>S</td>\n",
       "    </tr>\n",
       "    <tr>\n",
       "      <th>3</th>\n",
       "      <td>4</td>\n",
       "      <td>1</td>\n",
       "      <td>1</td>\n",
       "      <td>Futrelle, Mrs. Jacques Heath (Lily May Peel)</td>\n",
       "      <td>female</td>\n",
       "      <td>35.0</td>\n",
       "      <td>1</td>\n",
       "      <td>0</td>\n",
       "      <td>113803</td>\n",
       "      <td>53.1000</td>\n",
       "      <td>C123</td>\n",
       "      <td>S</td>\n",
       "    </tr>\n",
       "    <tr>\n",
       "      <th>4</th>\n",
       "      <td>5</td>\n",
       "      <td>0</td>\n",
       "      <td>3</td>\n",
       "      <td>Allen, Mr. William Henry</td>\n",
       "      <td>male</td>\n",
       "      <td>35.0</td>\n",
       "      <td>0</td>\n",
       "      <td>0</td>\n",
       "      <td>373450</td>\n",
       "      <td>8.0500</td>\n",
       "      <td>NaN</td>\n",
       "      <td>S</td>\n",
       "    </tr>\n",
       "  </tbody>\n",
       "</table>\n",
       "</div>"
      ],
      "text/plain": [
       "   PassengerId  Survived  Pclass  \\\n",
       "0            1         0       3   \n",
       "1            2         1       1   \n",
       "2            3         1       3   \n",
       "3            4         1       1   \n",
       "4            5         0       3   \n",
       "\n",
       "                                                Name     Sex   Age  SibSp  \\\n",
       "0                            Braund, Mr. Owen Harris    male  22.0      1   \n",
       "1  Cumings, Mrs. John Bradley (Florence Briggs Th...  female  38.0      1   \n",
       "2                             Heikkinen, Miss. Laina  female  26.0      0   \n",
       "3       Futrelle, Mrs. Jacques Heath (Lily May Peel)  female  35.0      1   \n",
       "4                           Allen, Mr. William Henry    male  35.0      0   \n",
       "\n",
       "   Parch            Ticket     Fare Cabin Embarked  \n",
       "0      0         A/5 21171   7.2500   NaN        S  \n",
       "1      0          PC 17599  71.2833   C85        C  \n",
       "2      0  STON/O2. 3101282   7.9250   NaN        S  \n",
       "3      0            113803  53.1000  C123        S  \n",
       "4      0            373450   8.0500   NaN        S  "
      ]
     },
     "execution_count": 3,
     "metadata": {},
     "output_type": "execute_result"
    }
   ],
   "source": [
    "# to check firt 5 data from dataset\n",
    "df.head()"
   ]
  },
  {
   "cell_type": "code",
   "execution_count": 4,
   "id": "7ec4c49a",
   "metadata": {
    "execution": {
     "iopub.execute_input": "2022-09-14T09:19:48.590522Z",
     "iopub.status.busy": "2022-09-14T09:19:48.589760Z",
     "iopub.status.idle": "2022-09-14T09:19:48.596693Z",
     "shell.execute_reply": "2022-09-14T09:19:48.595867Z"
    },
    "id": "riGhT6dDeV00",
    "outputId": "70c812b6-90ea-454c-8fb3-061361dcfaa6",
    "papermill": {
     "duration": 0.021222,
     "end_time": "2022-09-14T09:19:48.598862",
     "exception": false,
     "start_time": "2022-09-14T09:19:48.577640",
     "status": "completed"
    },
    "tags": []
   },
   "outputs": [
    {
     "data": {
      "text/plain": [
       "(891, 12)"
      ]
     },
     "execution_count": 4,
     "metadata": {},
     "output_type": "execute_result"
    }
   ],
   "source": [
    "# to check dataset shape \n",
    "df.shape"
   ]
  },
  {
   "cell_type": "code",
   "execution_count": 5,
   "id": "c9984c6c",
   "metadata": {
    "execution": {
     "iopub.execute_input": "2022-09-14T09:19:48.622738Z",
     "iopub.status.busy": "2022-09-14T09:19:48.622002Z",
     "iopub.status.idle": "2022-09-14T09:19:48.630984Z",
     "shell.execute_reply": "2022-09-14T09:19:48.630157Z"
    },
    "id": "KagFSn_8eV02",
    "outputId": "43d673e8-f26f-4a3a-cba7-5e2b80affd31",
    "papermill": {
     "duration": 0.023307,
     "end_time": "2022-09-14T09:19:48.633108",
     "exception": false,
     "start_time": "2022-09-14T09:19:48.609801",
     "status": "completed"
    },
    "tags": []
   },
   "outputs": [
    {
     "data": {
      "text/plain": [
       "PassengerId      0\n",
       "Survived         0\n",
       "Pclass           0\n",
       "Name             0\n",
       "Sex              0\n",
       "Age            177\n",
       "SibSp            0\n",
       "Parch            0\n",
       "Ticket           0\n",
       "Fare             0\n",
       "Cabin          687\n",
       "Embarked         2\n",
       "dtype: int64"
      ]
     },
     "execution_count": 5,
     "metadata": {},
     "output_type": "execute_result"
    }
   ],
   "source": [
    "# to check null values\n",
    "df.isnull().sum()"
   ]
  },
  {
   "cell_type": "code",
   "execution_count": 6,
   "id": "83133717",
   "metadata": {
    "execution": {
     "iopub.execute_input": "2022-09-14T09:19:48.657244Z",
     "iopub.status.busy": "2022-09-14T09:19:48.656286Z",
     "iopub.status.idle": "2022-09-14T09:19:49.142856Z",
     "shell.execute_reply": "2022-09-14T09:19:49.141481Z"
    },
    "id": "4ogWp0BoeV06",
    "outputId": "b67cc37b-a903-4e0c-bd08-bf11b07bc510",
    "papermill": {
     "duration": 0.502761,
     "end_time": "2022-09-14T09:19:49.146660",
     "exception": false,
     "start_time": "2022-09-14T09:19:48.643899",
     "status": "completed"
    },
    "tags": []
   },
   "outputs": [
    {
     "data": {
      "text/plain": [
       "<AxesSubplot:>"
      ]
     },
     "execution_count": 6,
     "metadata": {},
     "output_type": "execute_result"
    },
    {
     "data": {
      "image/png": "[encoded data removed]",
      "text/plain": [
       "<Figure size 432x288 with 2 Axes>"
      ]
     },
     "metadata": {
      "needs_background": "light"
     },
     "output_type": "display_data"
    }
   ],
   "source": [
    "sns.heatmap(df.isnull())"
   ]
  },
  {
   "cell_type": "code",
   "execution_count": 7,
   "id": "e6f027c4",
   "metadata": {
    "execution": {
     "iopub.execute_input": "2022-09-14T09:19:49.173953Z",
     "iopub.status.busy": "2022-09-14T09:19:49.172916Z",
     "iopub.status.idle": "2022-09-14T09:19:49.183929Z",
     "shell.execute_reply": "2022-09-14T09:19:49.182764Z"
    },
    "id": "xZn-DXgqeV0-",
    "outputId": "5c3c3113-8972-4949-f02b-9c407eb57e65",
    "papermill": {
     "duration": 0.025928,
     "end_time": "2022-09-14T09:19:49.186165",
     "exception": false,
     "start_time": "2022-09-14T09:19:49.160237",
     "status": "completed"
    },
    "tags": []
   },
   "outputs": [
    {
     "data": {
      "text/plain": [
       "PassengerId     0.000000\n",
       "Survived        0.000000\n",
       "Pclass          0.000000\n",
       "Name            0.000000\n",
       "Sex             0.000000\n",
       "Age            19.865320\n",
       "SibSp           0.000000\n",
       "Parch           0.000000\n",
       "Ticket          0.000000\n",
       "Fare            0.000000\n",
       "Cabin          77.104377\n",
       "Embarked        0.224467\n",
       "dtype: float64"
      ]
     },
     "execution_count": 7,
     "metadata": {},
     "output_type": "execute_result"
    }
   ],
   "source": [
    "# check % of null values\n",
    "df.isnull().sum()*100/df.shape[0]"
   ]
  },
  {
   "cell_type": "code",
   "execution_count": 8,
   "id": "5b44500d",
   "metadata": {
    "execution": {
     "iopub.execute_input": "2022-09-14T09:19:49.212028Z",
     "iopub.status.busy": "2022-09-14T09:19:49.211186Z",
     "iopub.status.idle": "2022-09-14T09:19:49.219267Z",
     "shell.execute_reply": "2022-09-14T09:19:49.218163Z"
    },
    "id": "bidPEooyeV1J",
    "outputId": "ba59a86d-3ac1-4d3a-ea48-be45626cebe5",
    "papermill": {
     "duration": 0.023694,
     "end_time": "2022-09-14T09:19:49.221555",
     "exception": false,
     "start_time": "2022-09-14T09:19:49.197861",
     "status": "completed"
    },
    "tags": []
   },
   "outputs": [
    {
     "data": {
      "text/plain": [
       "PassengerId      int64\n",
       "Survived         int64\n",
       "Pclass           int64\n",
       "Name            object\n",
       "Sex             object\n",
       "Age            float64\n",
       "SibSp            int64\n",
       "Parch            int64\n",
       "Ticket          object\n",
       "Fare           float64\n",
       "Cabin           object\n",
       "Embarked        object\n",
       "dtype: object"
      ]
     },
     "execution_count": 8,
     "metadata": {},
     "output_type": "execute_result"
    }
   ],
   "source": [
    "# check datatypes\n",
    "df.dtypes"
   ]
  },
  {
   "cell_type": "code",
   "execution_count": 9,
   "id": "9ecb44b0",
   "metadata": {
    "execution": {
     "iopub.execute_input": "2022-09-14T09:19:49.247093Z",
     "iopub.status.busy": "2022-09-14T09:19:49.246669Z",
     "iopub.status.idle": "2022-09-14T09:19:49.257941Z",
     "shell.execute_reply": "2022-09-14T09:19:49.256998Z"
    },
    "id": "tk7K_ycKeV1N",
    "papermill": {
     "duration": 0.026519,
     "end_time": "2022-09-14T09:19:49.259944",
     "exception": false,
     "start_time": "2022-09-14T09:19:49.233425",
     "status": "completed"
    },
    "tags": []
   },
   "outputs": [],
   "source": [
    "# now we can see ..in cabin column there is more than 50% null values.\n",
    "# so first we have to drop cabin column\n",
    "df.drop('Cabin',axis=1,inplace=True)"
   ]
  },
  {
   "cell_type": "code",
   "execution_count": 10,
   "id": "6ca25fbb",
   "metadata": {
    "execution": {
     "iopub.execute_input": "2022-09-14T09:19:49.286146Z",
     "iopub.status.busy": "2022-09-14T09:19:49.285189Z",
     "iopub.status.idle": "2022-09-14T09:19:49.291183Z",
     "shell.execute_reply": "2022-09-14T09:19:49.290457Z"
    },
    "id": "djbyyupqeV1P",
    "outputId": "6f0db717-0e76-4bce-f3bd-046ffc632f99",
    "papermill": {
     "duration": 0.021304,
     "end_time": "2022-09-14T09:19:49.293045",
     "exception": false,
     "start_time": "2022-09-14T09:19:49.271741",
     "status": "completed"
    },
    "tags": []
   },
   "outputs": [
    {
     "data": {
      "text/plain": [
       "(891, 11)"
      ]
     },
     "execution_count": 10,
     "metadata": {},
     "output_type": "execute_result"
    }
   ],
   "source": [
    "df.shape"
   ]
  },
  {
   "cell_type": "code",
   "execution_count": 11,
   "id": "2d7b2bd0",
   "metadata": {
    "execution": {
     "iopub.execute_input": "2022-09-14T09:19:49.318826Z",
     "iopub.status.busy": "2022-09-14T09:19:49.318128Z",
     "iopub.status.idle": "2022-09-14T09:19:49.326839Z",
     "shell.execute_reply": "2022-09-14T09:19:49.325908Z"
    },
    "id": "EvMQT4z3eV1R",
    "outputId": "5f905b5c-2bae-48d2-ffe3-5812943e6fc8",
    "papermill": {
     "duration": 0.023907,
     "end_time": "2022-09-14T09:19:49.328838",
     "exception": false,
     "start_time": "2022-09-14T09:19:49.304931",
     "status": "completed"
    },
    "tags": []
   },
   "outputs": [
    {
     "data": {
      "text/plain": [
       "PassengerId      0\n",
       "Survived         0\n",
       "Pclass           0\n",
       "Name             0\n",
       "Sex              0\n",
       "Age            177\n",
       "SibSp            0\n",
       "Parch            0\n",
       "Ticket           0\n",
       "Fare             0\n",
       "Embarked         2\n",
       "dtype: int64"
      ]
     },
     "execution_count": 11,
     "metadata": {},
     "output_type": "execute_result"
    }
   ],
   "source": [
    "df.isnull().sum()"
   ]
  },
  {
   "cell_type": "code",
   "execution_count": 12,
   "id": "ccd53543",
   "metadata": {
    "execution": {
     "iopub.execute_input": "2022-09-14T09:19:49.354476Z",
     "iopub.status.busy": "2022-09-14T09:19:49.354048Z",
     "iopub.status.idle": "2022-09-14T09:19:49.363365Z",
     "shell.execute_reply": "2022-09-14T09:19:49.362643Z"
    },
    "id": "pYJXwEgHeV1S",
    "outputId": "042e5660-cb70-47a6-f457-0b5b0a65547e",
    "papermill": {
     "duration": 0.024529,
     "end_time": "2022-09-14T09:19:49.365428",
     "exception": false,
     "start_time": "2022-09-14T09:19:49.340899",
     "status": "completed"
    },
    "tags": []
   },
   "outputs": [
    {
     "data": {
      "text/plain": [
       "array([0, 1])"
      ]
     },
     "execution_count": 12,
     "metadata": {},
     "output_type": "execute_result"
    }
   ],
   "source": [
    "# to check null values in survived\n",
    "df['Survived'].unique()"
   ]
  },
  {
   "cell_type": "code",
   "execution_count": 13,
   "id": "75c65248",
   "metadata": {
    "execution": {
     "iopub.execute_input": "2022-09-14T09:19:49.391576Z",
     "iopub.status.busy": "2022-09-14T09:19:49.390859Z",
     "iopub.status.idle": "2022-09-14T09:19:49.395957Z",
     "shell.execute_reply": "2022-09-14T09:19:49.395114Z"
    },
    "id": "a8pTNx7ZeV1T",
    "papermill": {
     "duration": 0.020417,
     "end_time": "2022-09-14T09:19:49.397977",
     "exception": false,
     "start_time": "2022-09-14T09:19:49.377560",
     "status": "completed"
    },
    "tags": []
   },
   "outputs": [],
   "source": [
    "m=df['Survived'].mean()\n",
    "df['Survived'].fillna(m,inplace=True)"
   ]
  },
  {
   "cell_type": "code",
   "execution_count": 14,
   "id": "1e440812",
   "metadata": {
    "execution": {
     "iopub.execute_input": "2022-09-14T09:19:49.424428Z",
     "iopub.status.busy": "2022-09-14T09:19:49.423722Z",
     "iopub.status.idle": "2022-09-14T09:19:49.431810Z",
     "shell.execute_reply": "2022-09-14T09:19:49.430935Z"
    },
    "id": "kNJxfttFeV1V",
    "outputId": "2883c482-621b-4750-bb00-f3ce18f92fd6",
    "papermill": {
     "duration": 0.023748,
     "end_time": "2022-09-14T09:19:49.433790",
     "exception": false,
     "start_time": "2022-09-14T09:19:49.410042",
     "status": "completed"
    },
    "tags": []
   },
   "outputs": [
    {
     "data": {
      "text/plain": [
       "PassengerId      0\n",
       "Survived         0\n",
       "Pclass           0\n",
       "Name             0\n",
       "Sex              0\n",
       "Age            177\n",
       "SibSp            0\n",
       "Parch            0\n",
       "Ticket           0\n",
       "Fare             0\n",
       "Embarked         2\n",
       "dtype: int64"
      ]
     },
     "execution_count": 14,
     "metadata": {},
     "output_type": "execute_result"
    }
   ],
   "source": [
    "df.isnull().sum()"
   ]
  },
  {
   "cell_type": "code",
   "execution_count": 15,
   "id": "d90efcb2",
   "metadata": {
    "execution": {
     "iopub.execute_input": "2022-09-14T09:19:49.460023Z",
     "iopub.status.busy": "2022-09-14T09:19:49.459349Z",
     "iopub.status.idle": "2022-09-14T09:19:49.468098Z",
     "shell.execute_reply": "2022-09-14T09:19:49.467135Z"
    },
    "id": "Xwv24zM2eV1W",
    "outputId": "bd017261-821f-4889-9e56-cecb950e52b1",
    "papermill": {
     "duration": 0.024115,
     "end_time": "2022-09-14T09:19:49.470101",
     "exception": false,
     "start_time": "2022-09-14T09:19:49.445986",
     "status": "completed"
    },
    "tags": []
   },
   "outputs": [
    {
     "data": {
      "text/plain": [
       "array([22.  , 38.  , 26.  , 35.  ,   nan, 54.  ,  2.  , 27.  , 14.  ,\n",
       "        4.  , 58.  , 20.  , 39.  , 55.  , 31.  , 34.  , 15.  , 28.  ,\n",
       "        8.  , 19.  , 40.  , 66.  , 42.  , 21.  , 18.  ,  3.  ,  7.  ,\n",
       "       49.  , 29.  , 65.  , 28.5 ,  5.  , 11.  , 45.  , 17.  , 32.  ,\n",
       "       16.  , 25.  ,  0.83, 30.  , 33.  , 23.  , 24.  , 46.  , 59.  ,\n",
       "       71.  , 37.  , 47.  , 14.5 , 70.5 , 32.5 , 12.  ,  9.  , 36.5 ,\n",
       "       51.  , 55.5 , 40.5 , 44.  ,  1.  , 61.  , 56.  , 50.  , 36.  ,\n",
       "       45.5 , 20.5 , 62.  , 41.  , 52.  , 63.  , 23.5 ,  0.92, 43.  ,\n",
       "       60.  , 10.  , 64.  , 13.  , 48.  ,  0.75, 53.  , 57.  , 80.  ,\n",
       "       70.  , 24.5 ,  6.  ,  0.67, 30.5 ,  0.42, 34.5 , 74.  ])"
      ]
     },
     "execution_count": 15,
     "metadata": {},
     "output_type": "execute_result"
    }
   ],
   "source": [
    "df['Age'].unique()"
   ]
  },
  {
   "cell_type": "code",
   "execution_count": 16,
   "id": "b995f20e",
   "metadata": {
    "execution": {
     "iopub.execute_input": "2022-09-14T09:19:49.496618Z",
     "iopub.status.busy": "2022-09-14T09:19:49.495917Z",
     "iopub.status.idle": "2022-09-14T09:19:49.501471Z",
     "shell.execute_reply": "2022-09-14T09:19:49.500257Z"
    },
    "id": "E3NPFW8weV1X",
    "papermill": {
     "duration": 0.021236,
     "end_time": "2022-09-14T09:19:49.503459",
     "exception": false,
     "start_time": "2022-09-14T09:19:49.482223",
     "status": "completed"
    },
    "tags": []
   },
   "outputs": [],
   "source": [
    "# fill nan value with mean of age\n",
    "m=df['Age'].mean()\n",
    "df['Age'].fillna(m,inplace=True)\n",
    "# df.isnull().sum()"
   ]
  },
  {
   "cell_type": "code",
   "execution_count": 17,
   "id": "274c3a49",
   "metadata": {
    "execution": {
     "iopub.execute_input": "2022-09-14T09:19:49.530144Z",
     "iopub.status.busy": "2022-09-14T09:19:49.529452Z",
     "iopub.status.idle": "2022-09-14T09:19:49.537373Z",
     "shell.execute_reply": "2022-09-14T09:19:49.536665Z"
    },
    "id": "p0J7inzdeV1Z",
    "outputId": "328b04c8-ac73-4ed5-fea1-c9a664d1a638",
    "papermill": {
     "duration": 0.023522,
     "end_time": "2022-09-14T09:19:49.539325",
     "exception": false,
     "start_time": "2022-09-14T09:19:49.515803",
     "status": "completed"
    },
    "tags": []
   },
   "outputs": [
    {
     "data": {
      "text/plain": [
       "PassengerId    0\n",
       "Survived       0\n",
       "Pclass         0\n",
       "Name           0\n",
       "Sex            0\n",
       "Age            0\n",
       "SibSp          0\n",
       "Parch          0\n",
       "Ticket         0\n",
       "Fare           0\n",
       "Embarked       2\n",
       "dtype: int64"
      ]
     },
     "execution_count": 17,
     "metadata": {},
     "output_type": "execute_result"
    }
   ],
   "source": [
    "df.isnull().sum()"
   ]
  },
  {
   "cell_type": "code",
   "execution_count": 18,
   "id": "913fd347",
   "metadata": {
    "execution": {
     "iopub.execute_input": "2022-09-14T09:19:49.566123Z",
     "iopub.status.busy": "2022-09-14T09:19:49.565459Z",
     "iopub.status.idle": "2022-09-14T09:19:49.573833Z",
     "shell.execute_reply": "2022-09-14T09:19:49.573032Z"
    },
    "id": "v02E4W8-eV1a",
    "outputId": "1d3788aa-f84f-4eb4-9f58-12266563bc43",
    "papermill": {
     "duration": 0.024047,
     "end_time": "2022-09-14T09:19:49.575767",
     "exception": false,
     "start_time": "2022-09-14T09:19:49.551720",
     "status": "completed"
    },
    "tags": []
   },
   "outputs": [
    {
     "data": {
      "text/plain": [
       "array([  7.25  ,  71.2833,   7.925 ,  53.1   ,   8.05  ,   8.4583,\n",
       "        51.8625,  21.075 ,  11.1333,  30.0708,  16.7   ,  26.55  ,\n",
       "        31.275 ,   7.8542,  16.    ,  29.125 ,  13.    ,  18.    ,\n",
       "         7.225 ,  26.    ,   8.0292,  35.5   ,  31.3875, 263.    ,\n",
       "         7.8792,   7.8958,  27.7208, 146.5208,   7.75  ,  10.5   ,\n",
       "        82.1708,  52.    ,   7.2292,  11.2417,   9.475 ,  21.    ,\n",
       "        41.5792,  15.5   ,  21.6792,  17.8   ,  39.6875,   7.8   ,\n",
       "        76.7292,  61.9792,  27.75  ,  46.9   ,  80.    ,  83.475 ,\n",
       "        27.9   ,  15.2458,   8.1583,   8.6625,  73.5   ,  14.4542,\n",
       "        56.4958,   7.65  ,  29.    ,  12.475 ,   9.    ,   9.5   ,\n",
       "         7.7875,  47.1   ,  15.85  ,  34.375 ,  61.175 ,  20.575 ,\n",
       "        34.6542,  63.3583,  23.    ,  77.2875,   8.6542,   7.775 ,\n",
       "        24.15  ,   9.825 ,  14.4583, 247.5208,   7.1417,  22.3583,\n",
       "         6.975 ,   7.05  ,  14.5   ,  15.0458,  26.2833,   9.2167,\n",
       "        79.2   ,   6.75  ,  11.5   ,  36.75  ,   7.7958,  12.525 ,\n",
       "        66.6   ,   7.3125,  61.3792,   7.7333,  69.55  ,  16.1   ,\n",
       "        15.75  ,  20.525 ,  55.    ,  25.925 ,  33.5   ,  30.6958,\n",
       "        25.4667,  28.7125,   0.    ,  15.05  ,  39.    ,  22.025 ,\n",
       "        50.    ,   8.4042,   6.4958,  10.4625,  18.7875,  31.    ,\n",
       "       113.275 ,  27.    ,  76.2917,  90.    ,   9.35  ,  13.5   ,\n",
       "         7.55  ,  26.25  ,  12.275 ,   7.125 ,  52.5542,  20.2125,\n",
       "        86.5   , 512.3292,  79.65  , 153.4625, 135.6333,  19.5   ,\n",
       "        29.7   ,  77.9583,  20.25  ,  78.85  ,  91.0792,  12.875 ,\n",
       "         8.85  , 151.55  ,  30.5   ,  23.25  ,  12.35  , 110.8833,\n",
       "       108.9   ,  24.    ,  56.9292,  83.1583, 262.375 ,  14.    ,\n",
       "       164.8667, 134.5   ,   6.2375,  57.9792,  28.5   , 133.65  ,\n",
       "        15.9   ,   9.225 ,  35.    ,  75.25  ,  69.3   ,  55.4417,\n",
       "       211.5   ,   4.0125, 227.525 ,  15.7417,   7.7292,  12.    ,\n",
       "       120.    ,  12.65  ,  18.75  ,   6.8583,  32.5   ,   7.875 ,\n",
       "        14.4   ,  55.9   ,   8.1125,  81.8583,  19.2583,  19.9667,\n",
       "        89.1042,  38.5   ,   7.725 ,  13.7917,   9.8375,   7.0458,\n",
       "         7.5208,  12.2875,   9.5875,  49.5042,  78.2667,  15.1   ,\n",
       "         7.6292,  22.525 ,  26.2875,  59.4   ,   7.4958,  34.0208,\n",
       "        93.5   , 221.7792, 106.425 ,  49.5   ,  71.    ,  13.8625,\n",
       "         7.8292,  39.6   ,  17.4   ,  51.4792,  26.3875,  30.    ,\n",
       "        40.125 ,   8.7125,  15.    ,  33.    ,  42.4   ,  15.55  ,\n",
       "        65.    ,  32.3208,   7.0542,   8.4333,  25.5875,   9.8417,\n",
       "         8.1375,  10.1708, 211.3375,  57.    ,  13.4167,   7.7417,\n",
       "         9.4833,   7.7375,   8.3625,  23.45  ,  25.9292,   8.6833,\n",
       "         8.5167,   7.8875,  37.0042,   6.45  ,   6.95  ,   8.3   ,\n",
       "         6.4375,  39.4   ,  14.1083,  13.8583,  50.4958,   5.    ,\n",
       "         9.8458,  10.5167])"
      ]
     },
     "execution_count": 18,
     "metadata": {},
     "output_type": "execute_result"
    }
   ],
   "source": [
    "# now to check in fare column\n",
    "df['Fare'].unique()"
   ]
  },
  {
   "cell_type": "code",
   "execution_count": 19,
   "id": "df66a9f2",
   "metadata": {
    "execution": {
     "iopub.execute_input": "2022-09-14T09:19:49.602670Z",
     "iopub.status.busy": "2022-09-14T09:19:49.602278Z",
     "iopub.status.idle": "2022-09-14T09:19:49.607142Z",
     "shell.execute_reply": "2022-09-14T09:19:49.606419Z"
    },
    "id": "SlRWNIHVeV1b",
    "papermill": {
     "duration": 0.020861,
     "end_time": "2022-09-14T09:19:49.609181",
     "exception": false,
     "start_time": "2022-09-14T09:19:49.588320",
     "status": "completed"
    },
    "tags": []
   },
   "outputs": [],
   "source": [
    "# fill nan value with mean of fare column\n",
    "m=df['Fare'].mean()\n",
    "df['Fare'].fillna(m,inplace=True)"
   ]
  },
  {
   "cell_type": "code",
   "execution_count": 20,
   "id": "6cba7818",
   "metadata": {
    "execution": {
     "iopub.execute_input": "2022-09-14T09:19:49.636087Z",
     "iopub.status.busy": "2022-09-14T09:19:49.635384Z",
     "iopub.status.idle": "2022-09-14T09:19:49.643535Z",
     "shell.execute_reply": "2022-09-14T09:19:49.642600Z"
    },
    "id": "KKZ6gxZUeV1e",
    "outputId": "119d0886-09b7-45aa-dd5f-5f590bd9d36f",
    "papermill": {
     "duration": 0.023958,
     "end_time": "2022-09-14T09:19:49.645617",
     "exception": false,
     "start_time": "2022-09-14T09:19:49.621659",
     "status": "completed"
    },
    "tags": []
   },
   "outputs": [
    {
     "data": {
      "text/plain": [
       "PassengerId    0\n",
       "Survived       0\n",
       "Pclass         0\n",
       "Name           0\n",
       "Sex            0\n",
       "Age            0\n",
       "SibSp          0\n",
       "Parch          0\n",
       "Ticket         0\n",
       "Fare           0\n",
       "Embarked       2\n",
       "dtype: int64"
      ]
     },
     "execution_count": 20,
     "metadata": {},
     "output_type": "execute_result"
    }
   ],
   "source": [
    "df.isnull().sum()"
   ]
  },
  {
   "cell_type": "code",
   "execution_count": 21,
   "id": "48dd4291",
   "metadata": {
    "execution": {
     "iopub.execute_input": "2022-09-14T09:19:49.673189Z",
     "iopub.status.busy": "2022-09-14T09:19:49.672516Z",
     "iopub.status.idle": "2022-09-14T09:19:49.678542Z",
     "shell.execute_reply": "2022-09-14T09:19:49.677797Z"
    },
    "id": "w8UMT6fEeV1f",
    "outputId": "1015ed64-397a-421d-dea3-068b821f43a4",
    "papermill": {
     "duration": 0.022382,
     "end_time": "2022-09-14T09:19:49.680619",
     "exception": false,
     "start_time": "2022-09-14T09:19:49.658237",
     "status": "completed"
    },
    "tags": []
   },
   "outputs": [
    {
     "data": {
      "text/plain": [
       "array(['S', 'C', 'Q', nan], dtype=object)"
      ]
     },
     "execution_count": 21,
     "metadata": {},
     "output_type": "execute_result"
    }
   ],
   "source": [
    "df['Embarked'].unique()"
   ]
  },
  {
   "cell_type": "code",
   "execution_count": 22,
   "id": "85c8c367",
   "metadata": {
    "execution": {
     "iopub.execute_input": "2022-09-14T09:19:49.708762Z",
     "iopub.status.busy": "2022-09-14T09:19:49.707961Z",
     "iopub.status.idle": "2022-09-14T09:19:49.717163Z",
     "shell.execute_reply": "2022-09-14T09:19:49.716438Z"
    },
    "id": "r2vcQPM9eV1g",
    "outputId": "b949d10b-afa8-4f3c-d137-f9934316d2fb",
    "papermill": {
     "duration": 0.025481,
     "end_time": "2022-09-14T09:19:49.719159",
     "exception": false,
     "start_time": "2022-09-14T09:19:49.693678",
     "status": "completed"
    },
    "tags": []
   },
   "outputs": [
    {
     "data": {
      "text/plain": [
       "S    644\n",
       "C    168\n",
       "Q     77\n",
       "Name: Embarked, dtype: int64"
      ]
     },
     "execution_count": 22,
     "metadata": {},
     "output_type": "execute_result"
    }
   ],
   "source": [
    "m=df['Embarked'].value_counts()\n",
    "m"
   ]
  },
  {
   "cell_type": "code",
   "execution_count": 23,
   "id": "11adf9b6",
   "metadata": {
    "execution": {
     "iopub.execute_input": "2022-09-14T09:19:49.746633Z",
     "iopub.status.busy": "2022-09-14T09:19:49.746236Z",
     "iopub.status.idle": "2022-09-14T09:19:49.751353Z",
     "shell.execute_reply": "2022-09-14T09:19:49.750507Z"
    },
    "id": "X8aV7InveV1h",
    "papermill": {
     "duration": 0.021771,
     "end_time": "2022-09-14T09:19:49.753691",
     "exception": false,
     "start_time": "2022-09-14T09:19:49.731920",
     "status": "completed"
    },
    "tags": []
   },
   "outputs": [],
   "source": [
    "# fill null value of embarked with 's'\n",
    "df['Embarked'].fillna('S',inplace=True)"
   ]
  },
  {
   "cell_type": "code",
   "execution_count": 24,
   "id": "09ed8715",
   "metadata": {
    "execution": {
     "iopub.execute_input": "2022-09-14T09:19:49.781676Z",
     "iopub.status.busy": "2022-09-14T09:19:49.780996Z",
     "iopub.status.idle": "2022-09-14T09:19:49.789025Z",
     "shell.execute_reply": "2022-09-14T09:19:49.788266Z"
    },
    "id": "PI1UkbvfeV1i",
    "outputId": "2841d353-71ee-44f1-9900-d85d5689228d",
    "papermill": {
     "duration": 0.024426,
     "end_time": "2022-09-14T09:19:49.791017",
     "exception": false,
     "start_time": "2022-09-14T09:19:49.766591",
     "status": "completed"
    },
    "tags": []
   },
   "outputs": [
    {
     "data": {
      "text/plain": [
       "PassengerId    0\n",
       "Survived       0\n",
       "Pclass         0\n",
       "Name           0\n",
       "Sex            0\n",
       "Age            0\n",
       "SibSp          0\n",
       "Parch          0\n",
       "Ticket         0\n",
       "Fare           0\n",
       "Embarked       0\n",
       "dtype: int64"
      ]
     },
     "execution_count": 24,
     "metadata": {},
     "output_type": "execute_result"
    }
   ],
   "source": [
    "# check null value of given dataset\n",
    "df.isnull().sum()"
   ]
  },
  {
   "cell_type": "code",
   "execution_count": 25,
   "id": "b136e154",
   "metadata": {
    "execution": {
     "iopub.execute_input": "2022-09-14T09:19:49.818928Z",
     "iopub.status.busy": "2022-09-14T09:19:49.818206Z",
     "iopub.status.idle": "2022-09-14T09:19:50.222683Z",
     "shell.execute_reply": "2022-09-14T09:19:50.221530Z"
    },
    "id": "owbJIHkleV1k",
    "outputId": "c06599cd-3b63-4708-f130-8c538cb2cb38",
    "papermill": {
     "duration": 0.421317,
     "end_time": "2022-09-14T09:19:50.225220",
     "exception": false,
     "start_time": "2022-09-14T09:19:49.803903",
     "status": "completed"
    },
    "tags": []
   },
   "outputs": [
    {
     "data": {
      "image/png": "[encoded data removed]",
      "text/plain": [
       "<Figure size 432x288 with 2 Axes>"
      ]
     },
     "metadata": {
      "needs_background": "light"
     },
     "output_type": "display_data"
    }
   ],
   "source": [
    "# visualise null value \n",
    "sns.heatmap(df.isnull())\n",
    "plt.show()"
   ]
  },
  {
   "cell_type": "code",
   "execution_count": 26,
   "id": "129a0b42",
   "metadata": {
    "execution": {
     "iopub.execute_input": "2022-09-14T09:19:50.254957Z",
     "iopub.status.busy": "2022-09-14T09:19:50.254544Z",
     "iopub.status.idle": "2022-09-14T09:19:50.262750Z",
     "shell.execute_reply": "2022-09-14T09:19:50.261673Z"
    },
    "id": "L2LjTCDbRoso",
    "outputId": "1b0d290e-d555-4f3e-aa7c-e914e9fe686f",
    "papermill": {
     "duration": 0.025247,
     "end_time": "2022-09-14T09:19:50.265125",
     "exception": false,
     "start_time": "2022-09-14T09:19:50.239878",
     "status": "completed"
    },
    "tags": []
   },
   "outputs": [
    {
     "data": {
      "text/plain": [
       "PassengerId      int64\n",
       "Survived         int64\n",
       "Pclass           int64\n",
       "Name            object\n",
       "Sex             object\n",
       "Age            float64\n",
       "SibSp            int64\n",
       "Parch            int64\n",
       "Ticket          object\n",
       "Fare           float64\n",
       "Embarked        object\n",
       "dtype: object"
      ]
     },
     "execution_count": 26,
     "metadata": {},
     "output_type": "execute_result"
    }
   ],
   "source": [
    "# check datatypes\n",
    "df.dtypes"
   ]
  },
  {
   "cell_type": "code",
   "execution_count": 27,
   "id": "17af0125",
   "metadata": {
    "execution": {
     "iopub.execute_input": "2022-09-14T09:19:50.294142Z",
     "iopub.status.busy": "2022-09-14T09:19:50.293731Z",
     "iopub.status.idle": "2022-09-14T09:19:50.427913Z",
     "shell.execute_reply": "2022-09-14T09:19:50.427064Z"
    },
    "id": "hAKdOA46Qs2_",
    "papermill": {
     "duration": 0.151627,
     "end_time": "2022-09-14T09:19:50.430447",
     "exception": false,
     "start_time": "2022-09-14T09:19:50.278820",
     "status": "completed"
    },
    "tags": []
   },
   "outputs": [],
   "source": [
    "# import library\n",
    "from sklearn.preprocessing import LabelEncoder\n",
    "# create object\n",
    "le=LabelEncoder()"
   ]
  },
  {
   "cell_type": "code",
   "execution_count": 28,
   "id": "d79e7de3",
   "metadata": {
    "execution": {
     "iopub.execute_input": "2022-09-14T09:19:50.460284Z",
     "iopub.status.busy": "2022-09-14T09:19:50.459326Z",
     "iopub.status.idle": "2022-09-14T09:19:50.470732Z",
     "shell.execute_reply": "2022-09-14T09:19:50.469776Z"
    },
    "id": "udkXwPlRQs-t",
    "papermill": {
     "duration": 0.029193,
     "end_time": "2022-09-14T09:19:50.473472",
     "exception": false,
     "start_time": "2022-09-14T09:19:50.444279",
     "status": "completed"
    },
    "tags": []
   },
   "outputs": [],
   "source": [
    "# convert object type features into numbers\n",
    "df['Name']= le.fit_transform(df['Name'])\n",
    "df['Sex']= le.fit_transform(df['Sex'])\n",
    "df['Ticket']= le.fit_transform(df['Ticket'])\n",
    "df['Embarked']= le.fit_transform(df['Embarked'])"
   ]
  },
  {
   "cell_type": "code",
   "execution_count": 29,
   "id": "ad39b28c",
   "metadata": {
    "execution": {
     "iopub.execute_input": "2022-09-14T09:19:50.502369Z",
     "iopub.status.busy": "2022-09-14T09:19:50.501932Z",
     "iopub.status.idle": "2022-09-14T09:19:50.509325Z",
     "shell.execute_reply": "2022-09-14T09:19:50.508138Z"
    },
    "id": "Q7CDXHl4eV1l",
    "papermill": {
     "duration": 0.024762,
     "end_time": "2022-09-14T09:19:50.511793",
     "exception": false,
     "start_time": "2022-09-14T09:19:50.487031",
     "status": "completed"
    },
    "tags": []
   },
   "outputs": [],
   "source": [
    "# select input and output from dataset\n",
    "x=df.drop('Survived',axis=1) #input\n",
    "y=df['Survived'] #output"
   ]
  },
  {
   "cell_type": "code",
   "execution_count": 30,
   "id": "b970b9a6",
   "metadata": {
    "execution": {
     "iopub.execute_input": "2022-09-14T09:19:50.541143Z",
     "iopub.status.busy": "2022-09-14T09:19:50.540739Z",
     "iopub.status.idle": "2022-09-14T09:19:50.608535Z",
     "shell.execute_reply": "2022-09-14T09:19:50.607418Z"
    },
    "id": "En7DOZJGNrfe",
    "papermill": {
     "duration": 0.085677,
     "end_time": "2022-09-14T09:19:50.611196",
     "exception": false,
     "start_time": "2022-09-14T09:19:50.525519",
     "status": "completed"
    },
    "tags": []
   },
   "outputs": [],
   "source": [
    "# train test split :means to split dataset in train and test\n",
    "from sklearn.model_selection import train_test_split\n",
    "x_train,x_test,y_train,y_test=train_test_split(x,y,test_size=0.3,random_state=1)"
   ]
  },
  {
   "cell_type": "code",
   "execution_count": 31,
   "id": "7f66aff4",
   "metadata": {
    "execution": {
     "iopub.execute_input": "2022-09-14T09:19:50.640542Z",
     "iopub.status.busy": "2022-09-14T09:19:50.640112Z",
     "iopub.status.idle": "2022-09-14T09:19:50.651907Z",
     "shell.execute_reply": "2022-09-14T09:19:50.651055Z"
    },
    "id": "AkM6Vg29Nrpb",
    "papermill": {
     "duration": 0.029114,
     "end_time": "2022-09-14T09:19:50.654093",
     "exception": false,
     "start_time": "2022-09-14T09:19:50.624979",
     "status": "completed"
    },
    "tags": []
   },
   "outputs": [],
   "source": [
    "# apply scaling:standardScaler\n",
    "from sklearn.preprocessing import StandardScaler\n",
    "# create object of StandardScaler class\n",
    "ss=StandardScaler()\n",
    "x_train=ss.fit_transform(x_train)\n",
    "x_test=ss.transform(x_test)"
   ]
  },
  {
   "cell_type": "code",
   "execution_count": 32,
   "id": "4b24e396",
   "metadata": {
    "execution": {
     "iopub.execute_input": "2022-09-14T09:19:50.683722Z",
     "iopub.status.busy": "2022-09-14T09:19:50.683035Z",
     "iopub.status.idle": "2022-09-14T09:19:50.688180Z",
     "shell.execute_reply": "2022-09-14T09:19:50.687434Z"
    },
    "id": "7P5rQobfNrtD",
    "papermill": {
     "duration": 0.02264,
     "end_time": "2022-09-14T09:19:50.690389",
     "exception": false,
     "start_time": "2022-09-14T09:19:50.667749",
     "status": "completed"
    },
    "tags": []
   },
   "outputs": [],
   "source": [
    "#create a function\n",
    "def create_model(model): \n",
    "    model.fit(x_train,y_train) #train the model\n",
    "    y_pred=model.predict(x_test) #test the model\n",
    "    print(classification_report(y_test,y_pred))\n",
    "    print(confusion_matrix(y_test,y_pred))\n",
    "    return model"
   ]
  },
  {
   "cell_type": "code",
   "execution_count": 33,
   "id": "280f91a5",
   "metadata": {
    "execution": {
     "iopub.execute_input": "2022-09-14T09:19:50.719091Z",
     "iopub.status.busy": "2022-09-14T09:19:50.718680Z",
     "iopub.status.idle": "2022-09-14T09:19:50.723823Z",
     "shell.execute_reply": "2022-09-14T09:19:50.722604Z"
    },
    "id": "n-cIOIYPNrxC",
    "papermill": {
     "duration": 0.022118,
     "end_time": "2022-09-14T09:19:50.726146",
     "exception": false,
     "start_time": "2022-09-14T09:19:50.704028",
     "status": "completed"
    },
    "tags": []
   },
   "outputs": [],
   "source": [
    "# import library\n",
    "from sklearn.metrics import classification_report\n",
    "from sklearn.metrics import confusion_matrix"
   ]
  },
  {
   "cell_type": "code",
   "execution_count": 34,
   "id": "df0a3ed1",
   "metadata": {
    "execution": {
     "iopub.execute_input": "2022-09-14T09:19:50.755070Z",
     "iopub.status.busy": "2022-09-14T09:19:50.754310Z",
     "iopub.status.idle": "2022-09-14T09:19:50.831545Z",
     "shell.execute_reply": "2022-09-14T09:19:50.830467Z"
    },
    "id": "a-MpXizxNr2B",
    "papermill": {
     "duration": 0.094457,
     "end_time": "2022-09-14T09:19:50.834134",
     "exception": false,
     "start_time": "2022-09-14T09:19:50.739677",
     "status": "completed"
    },
    "tags": []
   },
   "outputs": [],
   "source": [
    "# apply subline model\n",
    "from sklearn.linear_model import LogisticRegression\n",
    "# create object\n",
    "lr=LogisticRegression()"
   ]
  },
  {
   "cell_type": "code",
   "execution_count": 35,
   "id": "13062039",
   "metadata": {
    "execution": {
     "iopub.execute_input": "2022-09-14T09:19:50.862826Z",
     "iopub.status.busy": "2022-09-14T09:19:50.862124Z",
     "iopub.status.idle": "2022-09-14T09:19:50.885327Z",
     "shell.execute_reply": "2022-09-14T09:19:50.884490Z"
    },
    "id": "r3wOr1ojTIcp",
    "outputId": "dd01efaf-8d71-47af-cdc0-ef5d8a9d9831",
    "papermill": {
     "duration": 0.040514,
     "end_time": "2022-09-14T09:19:50.887895",
     "exception": false,
     "start_time": "2022-09-14T09:19:50.847381",
     "status": "completed"
    },
    "tags": []
   },
   "outputs": [
    {
     "name": "stdout",
     "output_type": "stream",
     "text": [
      "              precision    recall  f1-score   support\n",
      "\n",
      "           0       0.79      0.83      0.81       153\n",
      "           1       0.76      0.71      0.74       115\n",
      "\n",
      "    accuracy                           0.78       268\n",
      "   macro avg       0.78      0.77      0.77       268\n",
      "weighted avg       0.78      0.78      0.78       268\n",
      "\n",
      "[[127  26]\n",
      " [ 33  82]]\n"
     ]
    }
   ],
   "source": [
    "# call function\n",
    "lr=create_model(lr)"
   ]
  },
  {
   "cell_type": "code",
   "execution_count": 36,
   "id": "d7a7e0c2",
   "metadata": {
    "execution": {
     "iopub.execute_input": "2022-09-14T09:19:50.916822Z",
     "iopub.status.busy": "2022-09-14T09:19:50.916120Z",
     "iopub.status.idle": "2022-09-14T09:19:50.920169Z",
     "shell.execute_reply": "2022-09-14T09:19:50.919433Z"
    },
    "id": "DEOdfh7ETIhF",
    "papermill": {
     "duration": 0.020638,
     "end_time": "2022-09-14T09:19:50.922101",
     "exception": false,
     "start_time": "2022-09-14T09:19:50.901463",
     "status": "completed"
    },
    "tags": []
   },
   "outputs": [],
   "source": [
    "# here we got best recall value but still we will try 3-4 model and then check "
   ]
  },
  {
   "cell_type": "code",
   "execution_count": 37,
   "id": "9993839b",
   "metadata": {
    "execution": {
     "iopub.execute_input": "2022-09-14T09:19:50.950805Z",
     "iopub.status.busy": "2022-09-14T09:19:50.950139Z",
     "iopub.status.idle": "2022-09-14T09:19:50.954366Z",
     "shell.execute_reply": "2022-09-14T09:19:50.953469Z"
    },
    "id": "-RoQczBYTIll",
    "papermill": {
     "duration": 0.020971,
     "end_time": "2022-09-14T09:19:50.956454",
     "exception": false,
     "start_time": "2022-09-14T09:19:50.935483",
     "status": "completed"
    },
    "tags": []
   },
   "outputs": [],
   "source": [
    "# apply DecisionTreeClassifier"
   ]
  },
  {
   "cell_type": "code",
   "execution_count": 38,
   "id": "1aea68c3",
   "metadata": {
    "execution": {
     "iopub.execute_input": "2022-09-14T09:19:50.985830Z",
     "iopub.status.busy": "2022-09-14T09:19:50.985095Z",
     "iopub.status.idle": "2022-09-14T09:19:51.070984Z",
     "shell.execute_reply": "2022-09-14T09:19:51.069899Z"
    },
    "id": "gdERWh_ITIqY",
    "papermill": {
     "duration": 0.103517,
     "end_time": "2022-09-14T09:19:51.073393",
     "exception": false,
     "start_time": "2022-09-14T09:19:50.969876",
     "status": "completed"
    },
    "tags": []
   },
   "outputs": [],
   "source": [
    "# import library\n",
    "from sklearn.tree import DecisionTreeClassifier\n",
    "# create object of DecisionTreeClassifier\n",
    "dtc=DecisionTreeClassifier(random_state=1,max_depth=3)"
   ]
  },
  {
   "cell_type": "code",
   "execution_count": 39,
   "id": "1774d5ec",
   "metadata": {
    "execution": {
     "iopub.execute_input": "2022-09-14T09:19:51.102353Z",
     "iopub.status.busy": "2022-09-14T09:19:51.101730Z",
     "iopub.status.idle": "2022-09-14T09:19:51.116218Z",
     "shell.execute_reply": "2022-09-14T09:19:51.114869Z"
    },
    "id": "MErzlSGWNr8y",
    "outputId": "b1623b95-9297-4856-a5b5-717f18bcaf7e",
    "papermill": {
     "duration": 0.031486,
     "end_time": "2022-09-14T09:19:51.118500",
     "exception": false,
     "start_time": "2022-09-14T09:19:51.087014",
     "status": "completed"
    },
    "tags": []
   },
   "outputs": [
    {
     "name": "stdout",
     "output_type": "stream",
     "text": [
      "              precision    recall  f1-score   support\n",
      "\n",
      "           0       0.74      0.92      0.82       153\n",
      "           1       0.85      0.57      0.68       115\n",
      "\n",
      "    accuracy                           0.77       268\n",
      "   macro avg       0.79      0.75      0.75       268\n",
      "weighted avg       0.79      0.77      0.76       268\n",
      "\n",
      "[[141  12]\n",
      " [ 49  66]]\n"
     ]
    }
   ],
   "source": [
    "# call function\n",
    "dtc=create_model(dtc)"
   ]
  },
  {
   "cell_type": "code",
   "execution_count": 40,
   "id": "eb49610f",
   "metadata": {
    "execution": {
     "iopub.execute_input": "2022-09-14T09:19:51.148182Z",
     "iopub.status.busy": "2022-09-14T09:19:51.147423Z",
     "iopub.status.idle": "2022-09-14T09:19:51.151787Z",
     "shell.execute_reply": "2022-09-14T09:19:51.150953Z"
    },
    "id": "8UL_mKCbU-DH",
    "papermill": {
     "duration": 0.02127,
     "end_time": "2022-09-14T09:19:51.153853",
     "exception": false,
     "start_time": "2022-09-14T09:19:51.132583",
     "status": "completed"
    },
    "tags": []
   },
   "outputs": [],
   "source": [
    "# apply random forest ensembling technique"
   ]
  },
  {
   "cell_type": "code",
   "execution_count": 41,
   "id": "c4479208",
   "metadata": {
    "execution": {
     "iopub.execute_input": "2022-09-14T09:19:51.182686Z",
     "iopub.status.busy": "2022-09-14T09:19:51.181933Z",
     "iopub.status.idle": "2022-09-14T09:19:51.248812Z",
     "shell.execute_reply": "2022-09-14T09:19:51.247877Z"
    },
    "id": "lAjZ8b0qU-Hv",
    "papermill": {
     "duration": 0.084101,
     "end_time": "2022-09-14T09:19:51.251216",
     "exception": false,
     "start_time": "2022-09-14T09:19:51.167115",
     "status": "completed"
    },
    "tags": []
   },
   "outputs": [],
   "source": [
    "from sklearn.ensemble import RandomForestClassifier"
   ]
  },
  {
   "cell_type": "code",
   "execution_count": 42,
   "id": "aca0920b",
   "metadata": {
    "execution": {
     "iopub.execute_input": "2022-09-14T09:19:51.280513Z",
     "iopub.status.busy": "2022-09-14T09:19:51.280054Z",
     "iopub.status.idle": "2022-09-14T09:19:51.285288Z",
     "shell.execute_reply": "2022-09-14T09:19:51.284249Z"
    },
    "id": "YVtMXN7yU-Mg",
    "papermill": {
     "duration": 0.02238,
     "end_time": "2022-09-14T09:19:51.287330",
     "exception": false,
     "start_time": "2022-09-14T09:19:51.264950",
     "status": "completed"
    },
    "tags": []
   },
   "outputs": [],
   "source": [
    "rfc=RandomForestClassifier(n_estimators=12,max_features=8,random_state=1)"
   ]
  },
  {
   "cell_type": "code",
   "execution_count": 43,
   "id": "a763c4b2",
   "metadata": {
    "execution": {
     "iopub.execute_input": "2022-09-14T09:19:51.316756Z",
     "iopub.status.busy": "2022-09-14T09:19:51.315589Z",
     "iopub.status.idle": "2022-09-14T09:19:51.363306Z",
     "shell.execute_reply": "2022-09-14T09:19:51.362465Z"
    },
    "id": "gfjIokYLU-Qu",
    "outputId": "4ba3e20c-25a7-4472-d074-adbd5385bef6",
    "papermill": {
     "duration": 0.065202,
     "end_time": "2022-09-14T09:19:51.366155",
     "exception": false,
     "start_time": "2022-09-14T09:19:51.300953",
     "status": "completed"
    },
    "tags": []
   },
   "outputs": [
    {
     "name": "stdout",
     "output_type": "stream",
     "text": [
      "              precision    recall  f1-score   support\n",
      "\n",
      "           0       0.75      0.91      0.82       153\n",
      "           1       0.83      0.59      0.69       115\n",
      "\n",
      "    accuracy                           0.77       268\n",
      "   macro avg       0.79      0.75      0.76       268\n",
      "weighted avg       0.78      0.77      0.76       268\n",
      "\n",
      "[[139  14]\n",
      " [ 47  68]]\n"
     ]
    }
   ],
   "source": [
    "# call function\n",
    "rfc=create_model(rfc)"
   ]
  },
  {
   "cell_type": "code",
   "execution_count": null,
   "id": "c409567b",
   "metadata": {
    "id": "seata7F-U-VB",
    "papermill": {
     "duration": 0.013292,
     "end_time": "2022-09-14T09:19:51.393348",
     "exception": false,
     "start_time": "2022-09-14T09:19:51.380056",
     "status": "completed"
    },
    "tags": []
   },
   "outputs": [],
   "source": []
  },
  {
   "cell_type": "code",
   "execution_count": null,
   "id": "840d7ed6",
   "metadata": {
    "id": "cOSXnJ2aU-Y7",
    "papermill": {
     "duration": 0.013255,
     "end_time": "2022-09-14T09:19:51.420177",
     "exception": false,
     "start_time": "2022-09-14T09:19:51.406922",
     "status": "completed"
    },
    "tags": []
   },
   "outputs": [],
   "source": []
  }
 ],
 "metadata": {
  "kernelspec": {
   "display_name": "Python 3",
   "language": "python",
   "name": "python3"
  },
  "language_info": {
   "codemirror_mode": {
    "name": "ipython",
    "version": 3
   },
   "file_extension": ".py",
   "mimetype": "text/x-python",
   "name": "python",
   "nbconvert_exporter": "python",
   "pygments_lexer": "ipython3",
   "version": "3.7.12"
  },
  "papermill": {
   "default_parameters": {},
   "duration": 13.838155,
   "end_time": "2022-09-14T09:19:52.156985",
   "environment_variables": {},
   "exception": null,
   "input_path": "__notebook__.ipynb",
   "output_path": "__notebook__.ipynb",
   "parameters": {},
   "start_time": "2022-09-14T09:19:38.318830",
   "version": "2.3.4"
  }
 },
 "nbformat": 4,
 "nbformat_minor": 5
}
