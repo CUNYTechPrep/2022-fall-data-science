{
 "cells": [
  {
   "cell_type": "code",
   "execution_count": 55,
   "metadata": {},
   "outputs": [],
   "source": [
    "# For data management\n",
    "import pandas as pd\n",
    "import numpy as np\n",
    "\n",
    "# Import classifiers\n",
    "from sklearn.svm import SVC, LinearSVC\n",
    "from sklearn.ensemble import RandomForestClassifier\n",
    "from sklearn.linear_model import LogisticRegression\n",
    "\n",
    "# metrics contain our plot_confustion_matrix and classification_report\n",
    "from sklearn import metrics\n",
    "\n",
    "# Helper fuction to splitting data\n",
    "from sklearn.model_selection import train_test_split\n",
    "\n",
    "# IF YOU GET AN ERROR HERE run: pip install scikit-image\n",
    "from skimage import io\n",
    "from skimage.color import rgb2gray\n",
    "\n",
    "\n",
    "# For plotting\n",
    "import matplotlib.pyplot as plt\n",
    "%matplotlib inline \n"
   ]
  },
  {
   "cell_type": "markdown",
   "metadata": {},
   "source": [
    "# Image Classification\n",
    "\n",
    "### Remember our main steps motto _isbe_.\n",
    "1. i - Inspect and explore data.\n",
    "2. s - Select and engineer features.\n",
    "3. b - Build and train model.\n",
    "4. e - Evaluate model.\n"
   ]
  },
  {
   "cell_type": "markdown",
   "metadata": {},
   "source": [
    "# 1. Inspect and explore our data"
   ]
  },
  {
   "cell_type": "code",
   "execution_count": 28,
   "metadata": {},
   "outputs": [
    {
     "name": "stdout",
     "output_type": "stream",
     "text": [
      "<class 'pandas.core.frame.DataFrame'>\n",
      "RangeIndex: 4200 entries, 0 to 4199\n",
      "Columns: 785 entries, label to pixel783\n",
      "dtypes: int64(785)\n",
      "memory usage: 25.2 MB\n"
     ]
    }
   ],
   "source": [
    "df = pd.read_csv('data/digits-small.csv')\n",
    "df.info()"
   ]
  },
  {
   "cell_type": "code",
   "execution_count": 29,
   "metadata": {},
   "outputs": [
    {
     "data": {
      "text/html": [
       "<div>\n",
       "<style scoped>\n",
       "    .dataframe tbody tr th:only-of-type {\n",
       "        vertical-align: middle;\n",
       "    }\n",
       "\n",
       "    .dataframe tbody tr th {\n",
       "        vertical-align: top;\n",
       "    }\n",
       "\n",
       "    .dataframe thead th {\n",
       "        text-align: right;\n",
       "    }\n",
       "</style>\n",
       "<table border=\"1\" class=\"dataframe\">\n",
       "  <thead>\n",
       "    <tr style=\"text-align: right;\">\n",
       "      <th></th>\n",
       "      <th>label</th>\n",
       "      <th>pixel0</th>\n",
       "      <th>pixel1</th>\n",
       "      <th>pixel2</th>\n",
       "      <th>pixel3</th>\n",
       "      <th>pixel4</th>\n",
       "      <th>pixel5</th>\n",
       "      <th>pixel6</th>\n",
       "      <th>pixel7</th>\n",
       "      <th>pixel8</th>\n",
       "      <th>...</th>\n",
       "      <th>pixel774</th>\n",
       "      <th>pixel775</th>\n",
       "      <th>pixel776</th>\n",
       "      <th>pixel777</th>\n",
       "      <th>pixel778</th>\n",
       "      <th>pixel779</th>\n",
       "      <th>pixel780</th>\n",
       "      <th>pixel781</th>\n",
       "      <th>pixel782</th>\n",
       "      <th>pixel783</th>\n",
       "    </tr>\n",
       "  </thead>\n",
       "  <tbody>\n",
       "    <tr>\n",
       "      <th>0</th>\n",
       "      <td>1</td>\n",
       "      <td>0</td>\n",
       "      <td>0</td>\n",
       "      <td>0</td>\n",
       "      <td>0</td>\n",
       "      <td>0</td>\n",
       "      <td>0</td>\n",
       "      <td>0</td>\n",
       "      <td>0</td>\n",
       "      <td>0</td>\n",
       "      <td>...</td>\n",
       "      <td>0</td>\n",
       "      <td>0</td>\n",
       "      <td>0</td>\n",
       "      <td>0</td>\n",
       "      <td>0</td>\n",
       "      <td>0</td>\n",
       "      <td>0</td>\n",
       "      <td>0</td>\n",
       "      <td>0</td>\n",
       "      <td>0</td>\n",
       "    </tr>\n",
       "    <tr>\n",
       "      <th>1</th>\n",
       "      <td>0</td>\n",
       "      <td>0</td>\n",
       "      <td>0</td>\n",
       "      <td>0</td>\n",
       "      <td>0</td>\n",
       "      <td>0</td>\n",
       "      <td>0</td>\n",
       "      <td>0</td>\n",
       "      <td>0</td>\n",
       "      <td>0</td>\n",
       "      <td>...</td>\n",
       "      <td>0</td>\n",
       "      <td>0</td>\n",
       "      <td>0</td>\n",
       "      <td>0</td>\n",
       "      <td>0</td>\n",
       "      <td>0</td>\n",
       "      <td>0</td>\n",
       "      <td>0</td>\n",
       "      <td>0</td>\n",
       "      <td>0</td>\n",
       "    </tr>\n",
       "    <tr>\n",
       "      <th>2</th>\n",
       "      <td>9</td>\n",
       "      <td>0</td>\n",
       "      <td>0</td>\n",
       "      <td>0</td>\n",
       "      <td>0</td>\n",
       "      <td>0</td>\n",
       "      <td>0</td>\n",
       "      <td>0</td>\n",
       "      <td>0</td>\n",
       "      <td>0</td>\n",
       "      <td>...</td>\n",
       "      <td>0</td>\n",
       "      <td>0</td>\n",
       "      <td>0</td>\n",
       "      <td>0</td>\n",
       "      <td>0</td>\n",
       "      <td>0</td>\n",
       "      <td>0</td>\n",
       "      <td>0</td>\n",
       "      <td>0</td>\n",
       "      <td>0</td>\n",
       "    </tr>\n",
       "    <tr>\n",
       "      <th>3</th>\n",
       "      <td>9</td>\n",
       "      <td>0</td>\n",
       "      <td>0</td>\n",
       "      <td>0</td>\n",
       "      <td>0</td>\n",
       "      <td>0</td>\n",
       "      <td>0</td>\n",
       "      <td>0</td>\n",
       "      <td>0</td>\n",
       "      <td>0</td>\n",
       "      <td>...</td>\n",
       "      <td>0</td>\n",
       "      <td>0</td>\n",
       "      <td>0</td>\n",
       "      <td>0</td>\n",
       "      <td>0</td>\n",
       "      <td>0</td>\n",
       "      <td>0</td>\n",
       "      <td>0</td>\n",
       "      <td>0</td>\n",
       "      <td>0</td>\n",
       "    </tr>\n",
       "    <tr>\n",
       "      <th>4</th>\n",
       "      <td>0</td>\n",
       "      <td>0</td>\n",
       "      <td>0</td>\n",
       "      <td>0</td>\n",
       "      <td>0</td>\n",
       "      <td>0</td>\n",
       "      <td>0</td>\n",
       "      <td>0</td>\n",
       "      <td>0</td>\n",
       "      <td>0</td>\n",
       "      <td>...</td>\n",
       "      <td>0</td>\n",
       "      <td>0</td>\n",
       "      <td>0</td>\n",
       "      <td>0</td>\n",
       "      <td>0</td>\n",
       "      <td>0</td>\n",
       "      <td>0</td>\n",
       "      <td>0</td>\n",
       "      <td>0</td>\n",
       "      <td>0</td>\n",
       "    </tr>\n",
       "  </tbody>\n",
       "</table>\n",
       "<p>5 rows × 785 columns</p>\n",
       "</div>"
      ],
      "text/plain": [
       "   label  pixel0  pixel1  pixel2  pixel3  pixel4  pixel5  pixel6  pixel7  \\\n",
       "0      1       0       0       0       0       0       0       0       0   \n",
       "1      0       0       0       0       0       0       0       0       0   \n",
       "2      9       0       0       0       0       0       0       0       0   \n",
       "3      9       0       0       0       0       0       0       0       0   \n",
       "4      0       0       0       0       0       0       0       0       0   \n",
       "\n",
       "   pixel8  ...  pixel774  pixel775  pixel776  pixel777  pixel778  pixel779  \\\n",
       "0       0  ...         0         0         0         0         0         0   \n",
       "1       0  ...         0         0         0         0         0         0   \n",
       "2       0  ...         0         0         0         0         0         0   \n",
       "3       0  ...         0         0         0         0         0         0   \n",
       "4       0  ...         0         0         0         0         0         0   \n",
       "\n",
       "   pixel780  pixel781  pixel782  pixel783  \n",
       "0         0         0         0         0  \n",
       "1         0         0         0         0  \n",
       "2         0         0         0         0  \n",
       "3         0         0         0         0  \n",
       "4         0         0         0         0  \n",
       "\n",
       "[5 rows x 785 columns]"
      ]
     },
     "execution_count": 29,
     "metadata": {},
     "output_type": "execute_result"
    }
   ],
   "source": [
    "df.head()"
   ]
  },
  {
   "cell_type": "code",
   "execution_count": 30,
   "metadata": {},
   "outputs": [
    {
     "data": {
      "text/plain": [
       "1    440\n",
       "0    439\n",
       "7    437\n",
       "9    433\n",
       "2    425\n",
       "3    415\n",
       "6    410\n",
       "5    408\n",
       "4    398\n",
       "8    395\n",
       "Name: label, dtype: int64"
      ]
     },
     "execution_count": 30,
     "metadata": {},
     "output_type": "execute_result"
    }
   ],
   "source": [
    "# checking that the data is properly distributed\n",
    "df.label.value_counts()"
   ]
  },
  {
   "cell_type": "markdown",
   "metadata": {},
   "source": [
    "### Inspect for null values"
   ]
  },
  {
   "cell_type": "code",
   "execution_count": 31,
   "metadata": {},
   "outputs": [
    {
     "data": {
      "text/plain": [
       "label       0\n",
       "pixel0      0\n",
       "pixel1      0\n",
       "pixel2      0\n",
       "pixel3      0\n",
       "           ..\n",
       "pixel779    0\n",
       "pixel780    0\n",
       "pixel781    0\n",
       "pixel782    0\n",
       "pixel783    0\n",
       "Length: 785, dtype: int64"
      ]
     },
     "execution_count": 31,
     "metadata": {},
     "output_type": "execute_result"
    }
   ],
   "source": [
    "df.isnull().sum()"
   ]
  },
  {
   "cell_type": "code",
   "execution_count": 32,
   "metadata": {},
   "outputs": [
    {
     "data": {
      "text/plain": [
       "0"
      ]
     },
     "execution_count": 32,
     "metadata": {},
     "output_type": "execute_result"
    }
   ],
   "source": [
    "# collapse the columns so it is inspectable\n",
    "df.isnull().sum().sum()"
   ]
  },
  {
   "cell_type": "markdown",
   "metadata": {},
   "source": [
    "### Check for duplicates"
   ]
  },
  {
   "cell_type": "code",
   "execution_count": 33,
   "metadata": {},
   "outputs": [
    {
     "data": {
      "text/plain": [
       "0"
      ]
     },
     "execution_count": 33,
     "metadata": {},
     "output_type": "execute_result"
    }
   ],
   "source": [
    "# Check for duplicates\n",
    "df.duplicated().sum()"
   ]
  },
  {
   "cell_type": "markdown",
   "metadata": {},
   "source": [
    "### Lets look at our class balances"
   ]
  },
  {
   "cell_type": "code",
   "execution_count": 34,
   "metadata": {},
   "outputs": [
    {
     "data": {
      "text/plain": [
       "(1    440\n",
       " 0    439\n",
       " 7    437\n",
       " 9    433\n",
       " 2    425\n",
       " 3    415\n",
       " 6    410\n",
       " 5    408\n",
       " 4    398\n",
       " 8    395\n",
       " Name: label, dtype: int64,\n",
       " 1    0.104762\n",
       " 0    0.104524\n",
       " 7    0.104048\n",
       " 9    0.103095\n",
       " 2    0.101190\n",
       " 3    0.098810\n",
       " 6    0.097619\n",
       " 5    0.097143\n",
       " 4    0.094762\n",
       " 8    0.094048\n",
       " Name: label, dtype: float64)"
      ]
     },
     "execution_count": 34,
     "metadata": {},
     "output_type": "execute_result"
    }
   ],
   "source": [
    "df.label.value_counts(), df.label.value_counts(normalize=True)"
   ]
  },
  {
   "cell_type": "markdown",
   "metadata": {},
   "source": [
    "# Lets visualize one of the images..."
   ]
  },
  {
   "cell_type": "code",
   "execution_count": 35,
   "metadata": {},
   "outputs": [
    {
     "data": {
      "text/html": [
       "<div>\n",
       "<style scoped>\n",
       "    .dataframe tbody tr th:only-of-type {\n",
       "        vertical-align: middle;\n",
       "    }\n",
       "\n",
       "    .dataframe tbody tr th {\n",
       "        vertical-align: top;\n",
       "    }\n",
       "\n",
       "    .dataframe thead th {\n",
       "        text-align: right;\n",
       "    }\n",
       "</style>\n",
       "<table border=\"1\" class=\"dataframe\">\n",
       "  <thead>\n",
       "    <tr style=\"text-align: right;\">\n",
       "      <th></th>\n",
       "      <th>label</th>\n",
       "      <th>pixel0</th>\n",
       "      <th>pixel1</th>\n",
       "      <th>pixel2</th>\n",
       "      <th>pixel3</th>\n",
       "      <th>pixel4</th>\n",
       "      <th>pixel5</th>\n",
       "      <th>pixel6</th>\n",
       "      <th>pixel7</th>\n",
       "      <th>pixel8</th>\n",
       "      <th>...</th>\n",
       "      <th>pixel774</th>\n",
       "      <th>pixel775</th>\n",
       "      <th>pixel776</th>\n",
       "      <th>pixel777</th>\n",
       "      <th>pixel778</th>\n",
       "      <th>pixel779</th>\n",
       "      <th>pixel780</th>\n",
       "      <th>pixel781</th>\n",
       "      <th>pixel782</th>\n",
       "      <th>pixel783</th>\n",
       "    </tr>\n",
       "  </thead>\n",
       "  <tbody>\n",
       "    <tr>\n",
       "      <th>0</th>\n",
       "      <td>1</td>\n",
       "      <td>0</td>\n",
       "      <td>0</td>\n",
       "      <td>0</td>\n",
       "      <td>0</td>\n",
       "      <td>0</td>\n",
       "      <td>0</td>\n",
       "      <td>0</td>\n",
       "      <td>0</td>\n",
       "      <td>0</td>\n",
       "      <td>...</td>\n",
       "      <td>0</td>\n",
       "      <td>0</td>\n",
       "      <td>0</td>\n",
       "      <td>0</td>\n",
       "      <td>0</td>\n",
       "      <td>0</td>\n",
       "      <td>0</td>\n",
       "      <td>0</td>\n",
       "      <td>0</td>\n",
       "      <td>0</td>\n",
       "    </tr>\n",
       "    <tr>\n",
       "      <th>1</th>\n",
       "      <td>0</td>\n",
       "      <td>0</td>\n",
       "      <td>0</td>\n",
       "      <td>0</td>\n",
       "      <td>0</td>\n",
       "      <td>0</td>\n",
       "      <td>0</td>\n",
       "      <td>0</td>\n",
       "      <td>0</td>\n",
       "      <td>0</td>\n",
       "      <td>...</td>\n",
       "      <td>0</td>\n",
       "      <td>0</td>\n",
       "      <td>0</td>\n",
       "      <td>0</td>\n",
       "      <td>0</td>\n",
       "      <td>0</td>\n",
       "      <td>0</td>\n",
       "      <td>0</td>\n",
       "      <td>0</td>\n",
       "      <td>0</td>\n",
       "    </tr>\n",
       "    <tr>\n",
       "      <th>2</th>\n",
       "      <td>9</td>\n",
       "      <td>0</td>\n",
       "      <td>0</td>\n",
       "      <td>0</td>\n",
       "      <td>0</td>\n",
       "      <td>0</td>\n",
       "      <td>0</td>\n",
       "      <td>0</td>\n",
       "      <td>0</td>\n",
       "      <td>0</td>\n",
       "      <td>...</td>\n",
       "      <td>0</td>\n",
       "      <td>0</td>\n",
       "      <td>0</td>\n",
       "      <td>0</td>\n",
       "      <td>0</td>\n",
       "      <td>0</td>\n",
       "      <td>0</td>\n",
       "      <td>0</td>\n",
       "      <td>0</td>\n",
       "      <td>0</td>\n",
       "    </tr>\n",
       "    <tr>\n",
       "      <th>3</th>\n",
       "      <td>9</td>\n",
       "      <td>0</td>\n",
       "      <td>0</td>\n",
       "      <td>0</td>\n",
       "      <td>0</td>\n",
       "      <td>0</td>\n",
       "      <td>0</td>\n",
       "      <td>0</td>\n",
       "      <td>0</td>\n",
       "      <td>0</td>\n",
       "      <td>...</td>\n",
       "      <td>0</td>\n",
       "      <td>0</td>\n",
       "      <td>0</td>\n",
       "      <td>0</td>\n",
       "      <td>0</td>\n",
       "      <td>0</td>\n",
       "      <td>0</td>\n",
       "      <td>0</td>\n",
       "      <td>0</td>\n",
       "      <td>0</td>\n",
       "    </tr>\n",
       "    <tr>\n",
       "      <th>4</th>\n",
       "      <td>0</td>\n",
       "      <td>0</td>\n",
       "      <td>0</td>\n",
       "      <td>0</td>\n",
       "      <td>0</td>\n",
       "      <td>0</td>\n",
       "      <td>0</td>\n",
       "      <td>0</td>\n",
       "      <td>0</td>\n",
       "      <td>0</td>\n",
       "      <td>...</td>\n",
       "      <td>0</td>\n",
       "      <td>0</td>\n",
       "      <td>0</td>\n",
       "      <td>0</td>\n",
       "      <td>0</td>\n",
       "      <td>0</td>\n",
       "      <td>0</td>\n",
       "      <td>0</td>\n",
       "      <td>0</td>\n",
       "      <td>0</td>\n",
       "    </tr>\n",
       "  </tbody>\n",
       "</table>\n",
       "<p>5 rows × 785 columns</p>\n",
       "</div>"
      ],
      "text/plain": [
       "   label  pixel0  pixel1  pixel2  pixel3  pixel4  pixel5  pixel6  pixel7  \\\n",
       "0      1       0       0       0       0       0       0       0       0   \n",
       "1      0       0       0       0       0       0       0       0       0   \n",
       "2      9       0       0       0       0       0       0       0       0   \n",
       "3      9       0       0       0       0       0       0       0       0   \n",
       "4      0       0       0       0       0       0       0       0       0   \n",
       "\n",
       "   pixel8  ...  pixel774  pixel775  pixel776  pixel777  pixel778  pixel779  \\\n",
       "0       0  ...         0         0         0         0         0         0   \n",
       "1       0  ...         0         0         0         0         0         0   \n",
       "2       0  ...         0         0         0         0         0         0   \n",
       "3       0  ...         0         0         0         0         0         0   \n",
       "4       0  ...         0         0         0         0         0         0   \n",
       "\n",
       "   pixel780  pixel781  pixel782  pixel783  \n",
       "0         0         0         0         0  \n",
       "1         0         0         0         0  \n",
       "2         0         0         0         0  \n",
       "3         0         0         0         0  \n",
       "4         0         0         0         0  \n",
       "\n",
       "[5 rows x 785 columns]"
      ]
     },
     "execution_count": 35,
     "metadata": {},
     "output_type": "execute_result"
    }
   ],
   "source": [
    "df.head()"
   ]
  },
  {
   "cell_type": "markdown",
   "metadata": {},
   "source": [
    "### First, we need to create a list that is just our pixel columns"
   ]
  },
  {
   "cell_type": "code",
   "execution_count": 36,
   "metadata": {},
   "outputs": [
    {
     "data": {
      "text/plain": [
       "['pixel0',\n",
       " 'pixel1',\n",
       " 'pixel2',\n",
       " 'pixel3',\n",
       " 'pixel4',\n",
       " 'pixel5',\n",
       " 'pixel6',\n",
       " 'pixel7',\n",
       " 'pixel8',\n",
       " 'pixel9',\n",
       " 'pixel10',\n",
       " 'pixel11',\n",
       " 'pixel12',\n",
       " 'pixel13',\n",
       " 'pixel14',\n",
       " 'pixel15',\n",
       " 'pixel16',\n",
       " 'pixel17',\n",
       " 'pixel18',\n",
       " 'pixel19',\n",
       " 'pixel20',\n",
       " 'pixel21',\n",
       " 'pixel22',\n",
       " 'pixel23',\n",
       " 'pixel24',\n",
       " 'pixel25',\n",
       " 'pixel26',\n",
       " 'pixel27',\n",
       " 'pixel28',\n",
       " 'pixel29',\n",
       " 'pixel30',\n",
       " 'pixel31',\n",
       " 'pixel32',\n",
       " 'pixel33',\n",
       " 'pixel34',\n",
       " 'pixel35',\n",
       " 'pixel36',\n",
       " 'pixel37',\n",
       " 'pixel38',\n",
       " 'pixel39',\n",
       " 'pixel40',\n",
       " 'pixel41',\n",
       " 'pixel42',\n",
       " 'pixel43',\n",
       " 'pixel44',\n",
       " 'pixel45',\n",
       " 'pixel46',\n",
       " 'pixel47',\n",
       " 'pixel48',\n",
       " 'pixel49',\n",
       " 'pixel50',\n",
       " 'pixel51',\n",
       " 'pixel52',\n",
       " 'pixel53',\n",
       " 'pixel54',\n",
       " 'pixel55',\n",
       " 'pixel56',\n",
       " 'pixel57',\n",
       " 'pixel58',\n",
       " 'pixel59',\n",
       " 'pixel60',\n",
       " 'pixel61',\n",
       " 'pixel62',\n",
       " 'pixel63',\n",
       " 'pixel64',\n",
       " 'pixel65',\n",
       " 'pixel66',\n",
       " 'pixel67',\n",
       " 'pixel68',\n",
       " 'pixel69',\n",
       " 'pixel70',\n",
       " 'pixel71',\n",
       " 'pixel72',\n",
       " 'pixel73',\n",
       " 'pixel74',\n",
       " 'pixel75',\n",
       " 'pixel76',\n",
       " 'pixel77',\n",
       " 'pixel78',\n",
       " 'pixel79',\n",
       " 'pixel80',\n",
       " 'pixel81',\n",
       " 'pixel82',\n",
       " 'pixel83',\n",
       " 'pixel84',\n",
       " 'pixel85',\n",
       " 'pixel86',\n",
       " 'pixel87',\n",
       " 'pixel88',\n",
       " 'pixel89',\n",
       " 'pixel90',\n",
       " 'pixel91',\n",
       " 'pixel92',\n",
       " 'pixel93',\n",
       " 'pixel94',\n",
       " 'pixel95',\n",
       " 'pixel96',\n",
       " 'pixel97',\n",
       " 'pixel98',\n",
       " 'pixel99',\n",
       " 'pixel100',\n",
       " 'pixel101',\n",
       " 'pixel102',\n",
       " 'pixel103',\n",
       " 'pixel104',\n",
       " 'pixel105',\n",
       " 'pixel106',\n",
       " 'pixel107',\n",
       " 'pixel108',\n",
       " 'pixel109',\n",
       " 'pixel110',\n",
       " 'pixel111',\n",
       " 'pixel112',\n",
       " 'pixel113',\n",
       " 'pixel114',\n",
       " 'pixel115',\n",
       " 'pixel116',\n",
       " 'pixel117',\n",
       " 'pixel118',\n",
       " 'pixel119',\n",
       " 'pixel120',\n",
       " 'pixel121',\n",
       " 'pixel122',\n",
       " 'pixel123',\n",
       " 'pixel124',\n",
       " 'pixel125',\n",
       " 'pixel126',\n",
       " 'pixel127',\n",
       " 'pixel128',\n",
       " 'pixel129',\n",
       " 'pixel130',\n",
       " 'pixel131',\n",
       " 'pixel132',\n",
       " 'pixel133',\n",
       " 'pixel134',\n",
       " 'pixel135',\n",
       " 'pixel136',\n",
       " 'pixel137',\n",
       " 'pixel138',\n",
       " 'pixel139',\n",
       " 'pixel140',\n",
       " 'pixel141',\n",
       " 'pixel142',\n",
       " 'pixel143',\n",
       " 'pixel144',\n",
       " 'pixel145',\n",
       " 'pixel146',\n",
       " 'pixel147',\n",
       " 'pixel148',\n",
       " 'pixel149',\n",
       " 'pixel150',\n",
       " 'pixel151',\n",
       " 'pixel152',\n",
       " 'pixel153',\n",
       " 'pixel154',\n",
       " 'pixel155',\n",
       " 'pixel156',\n",
       " 'pixel157',\n",
       " 'pixel158',\n",
       " 'pixel159',\n",
       " 'pixel160',\n",
       " 'pixel161',\n",
       " 'pixel162',\n",
       " 'pixel163',\n",
       " 'pixel164',\n",
       " 'pixel165',\n",
       " 'pixel166',\n",
       " 'pixel167',\n",
       " 'pixel168',\n",
       " 'pixel169',\n",
       " 'pixel170',\n",
       " 'pixel171',\n",
       " 'pixel172',\n",
       " 'pixel173',\n",
       " 'pixel174',\n",
       " 'pixel175',\n",
       " 'pixel176',\n",
       " 'pixel177',\n",
       " 'pixel178',\n",
       " 'pixel179',\n",
       " 'pixel180',\n",
       " 'pixel181',\n",
       " 'pixel182',\n",
       " 'pixel183',\n",
       " 'pixel184',\n",
       " 'pixel185',\n",
       " 'pixel186',\n",
       " 'pixel187',\n",
       " 'pixel188',\n",
       " 'pixel189',\n",
       " 'pixel190',\n",
       " 'pixel191',\n",
       " 'pixel192',\n",
       " 'pixel193',\n",
       " 'pixel194',\n",
       " 'pixel195',\n",
       " 'pixel196',\n",
       " 'pixel197',\n",
       " 'pixel198',\n",
       " 'pixel199',\n",
       " 'pixel200',\n",
       " 'pixel201',\n",
       " 'pixel202',\n",
       " 'pixel203',\n",
       " 'pixel204',\n",
       " 'pixel205',\n",
       " 'pixel206',\n",
       " 'pixel207',\n",
       " 'pixel208',\n",
       " 'pixel209',\n",
       " 'pixel210',\n",
       " 'pixel211',\n",
       " 'pixel212',\n",
       " 'pixel213',\n",
       " 'pixel214',\n",
       " 'pixel215',\n",
       " 'pixel216',\n",
       " 'pixel217',\n",
       " 'pixel218',\n",
       " 'pixel219',\n",
       " 'pixel220',\n",
       " 'pixel221',\n",
       " 'pixel222',\n",
       " 'pixel223',\n",
       " 'pixel224',\n",
       " 'pixel225',\n",
       " 'pixel226',\n",
       " 'pixel227',\n",
       " 'pixel228',\n",
       " 'pixel229',\n",
       " 'pixel230',\n",
       " 'pixel231',\n",
       " 'pixel232',\n",
       " 'pixel233',\n",
       " 'pixel234',\n",
       " 'pixel235',\n",
       " 'pixel236',\n",
       " 'pixel237',\n",
       " 'pixel238',\n",
       " 'pixel239',\n",
       " 'pixel240',\n",
       " 'pixel241',\n",
       " 'pixel242',\n",
       " 'pixel243',\n",
       " 'pixel244',\n",
       " 'pixel245',\n",
       " 'pixel246',\n",
       " 'pixel247',\n",
       " 'pixel248',\n",
       " 'pixel249',\n",
       " 'pixel250',\n",
       " 'pixel251',\n",
       " 'pixel252',\n",
       " 'pixel253',\n",
       " 'pixel254',\n",
       " 'pixel255',\n",
       " 'pixel256',\n",
       " 'pixel257',\n",
       " 'pixel258',\n",
       " 'pixel259',\n",
       " 'pixel260',\n",
       " 'pixel261',\n",
       " 'pixel262',\n",
       " 'pixel263',\n",
       " 'pixel264',\n",
       " 'pixel265',\n",
       " 'pixel266',\n",
       " 'pixel267',\n",
       " 'pixel268',\n",
       " 'pixel269',\n",
       " 'pixel270',\n",
       " 'pixel271',\n",
       " 'pixel272',\n",
       " 'pixel273',\n",
       " 'pixel274',\n",
       " 'pixel275',\n",
       " 'pixel276',\n",
       " 'pixel277',\n",
       " 'pixel278',\n",
       " 'pixel279',\n",
       " 'pixel280',\n",
       " 'pixel281',\n",
       " 'pixel282',\n",
       " 'pixel283',\n",
       " 'pixel284',\n",
       " 'pixel285',\n",
       " 'pixel286',\n",
       " 'pixel287',\n",
       " 'pixel288',\n",
       " 'pixel289',\n",
       " 'pixel290',\n",
       " 'pixel291',\n",
       " 'pixel292',\n",
       " 'pixel293',\n",
       " 'pixel294',\n",
       " 'pixel295',\n",
       " 'pixel296',\n",
       " 'pixel297',\n",
       " 'pixel298',\n",
       " 'pixel299',\n",
       " 'pixel300',\n",
       " 'pixel301',\n",
       " 'pixel302',\n",
       " 'pixel303',\n",
       " 'pixel304',\n",
       " 'pixel305',\n",
       " 'pixel306',\n",
       " 'pixel307',\n",
       " 'pixel308',\n",
       " 'pixel309',\n",
       " 'pixel310',\n",
       " 'pixel311',\n",
       " 'pixel312',\n",
       " 'pixel313',\n",
       " 'pixel314',\n",
       " 'pixel315',\n",
       " 'pixel316',\n",
       " 'pixel317',\n",
       " 'pixel318',\n",
       " 'pixel319',\n",
       " 'pixel320',\n",
       " 'pixel321',\n",
       " 'pixel322',\n",
       " 'pixel323',\n",
       " 'pixel324',\n",
       " 'pixel325',\n",
       " 'pixel326',\n",
       " 'pixel327',\n",
       " 'pixel328',\n",
       " 'pixel329',\n",
       " 'pixel330',\n",
       " 'pixel331',\n",
       " 'pixel332',\n",
       " 'pixel333',\n",
       " 'pixel334',\n",
       " 'pixel335',\n",
       " 'pixel336',\n",
       " 'pixel337',\n",
       " 'pixel338',\n",
       " 'pixel339',\n",
       " 'pixel340',\n",
       " 'pixel341',\n",
       " 'pixel342',\n",
       " 'pixel343',\n",
       " 'pixel344',\n",
       " 'pixel345',\n",
       " 'pixel346',\n",
       " 'pixel347',\n",
       " 'pixel348',\n",
       " 'pixel349',\n",
       " 'pixel350',\n",
       " 'pixel351',\n",
       " 'pixel352',\n",
       " 'pixel353',\n",
       " 'pixel354',\n",
       " 'pixel355',\n",
       " 'pixel356',\n",
       " 'pixel357',\n",
       " 'pixel358',\n",
       " 'pixel359',\n",
       " 'pixel360',\n",
       " 'pixel361',\n",
       " 'pixel362',\n",
       " 'pixel363',\n",
       " 'pixel364',\n",
       " 'pixel365',\n",
       " 'pixel366',\n",
       " 'pixel367',\n",
       " 'pixel368',\n",
       " 'pixel369',\n",
       " 'pixel370',\n",
       " 'pixel371',\n",
       " 'pixel372',\n",
       " 'pixel373',\n",
       " 'pixel374',\n",
       " 'pixel375',\n",
       " 'pixel376',\n",
       " 'pixel377',\n",
       " 'pixel378',\n",
       " 'pixel379',\n",
       " 'pixel380',\n",
       " 'pixel381',\n",
       " 'pixel382',\n",
       " 'pixel383',\n",
       " 'pixel384',\n",
       " 'pixel385',\n",
       " 'pixel386',\n",
       " 'pixel387',\n",
       " 'pixel388',\n",
       " 'pixel389',\n",
       " 'pixel390',\n",
       " 'pixel391',\n",
       " 'pixel392',\n",
       " 'pixel393',\n",
       " 'pixel394',\n",
       " 'pixel395',\n",
       " 'pixel396',\n",
       " 'pixel397',\n",
       " 'pixel398',\n",
       " 'pixel399',\n",
       " 'pixel400',\n",
       " 'pixel401',\n",
       " 'pixel402',\n",
       " 'pixel403',\n",
       " 'pixel404',\n",
       " 'pixel405',\n",
       " 'pixel406',\n",
       " 'pixel407',\n",
       " 'pixel408',\n",
       " 'pixel409',\n",
       " 'pixel410',\n",
       " 'pixel411',\n",
       " 'pixel412',\n",
       " 'pixel413',\n",
       " 'pixel414',\n",
       " 'pixel415',\n",
       " 'pixel416',\n",
       " 'pixel417',\n",
       " 'pixel418',\n",
       " 'pixel419',\n",
       " 'pixel420',\n",
       " 'pixel421',\n",
       " 'pixel422',\n",
       " 'pixel423',\n",
       " 'pixel424',\n",
       " 'pixel425',\n",
       " 'pixel426',\n",
       " 'pixel427',\n",
       " 'pixel428',\n",
       " 'pixel429',\n",
       " 'pixel430',\n",
       " 'pixel431',\n",
       " 'pixel432',\n",
       " 'pixel433',\n",
       " 'pixel434',\n",
       " 'pixel435',\n",
       " 'pixel436',\n",
       " 'pixel437',\n",
       " 'pixel438',\n",
       " 'pixel439',\n",
       " 'pixel440',\n",
       " 'pixel441',\n",
       " 'pixel442',\n",
       " 'pixel443',\n",
       " 'pixel444',\n",
       " 'pixel445',\n",
       " 'pixel446',\n",
       " 'pixel447',\n",
       " 'pixel448',\n",
       " 'pixel449',\n",
       " 'pixel450',\n",
       " 'pixel451',\n",
       " 'pixel452',\n",
       " 'pixel453',\n",
       " 'pixel454',\n",
       " 'pixel455',\n",
       " 'pixel456',\n",
       " 'pixel457',\n",
       " 'pixel458',\n",
       " 'pixel459',\n",
       " 'pixel460',\n",
       " 'pixel461',\n",
       " 'pixel462',\n",
       " 'pixel463',\n",
       " 'pixel464',\n",
       " 'pixel465',\n",
       " 'pixel466',\n",
       " 'pixel467',\n",
       " 'pixel468',\n",
       " 'pixel469',\n",
       " 'pixel470',\n",
       " 'pixel471',\n",
       " 'pixel472',\n",
       " 'pixel473',\n",
       " 'pixel474',\n",
       " 'pixel475',\n",
       " 'pixel476',\n",
       " 'pixel477',\n",
       " 'pixel478',\n",
       " 'pixel479',\n",
       " 'pixel480',\n",
       " 'pixel481',\n",
       " 'pixel482',\n",
       " 'pixel483',\n",
       " 'pixel484',\n",
       " 'pixel485',\n",
       " 'pixel486',\n",
       " 'pixel487',\n",
       " 'pixel488',\n",
       " 'pixel489',\n",
       " 'pixel490',\n",
       " 'pixel491',\n",
       " 'pixel492',\n",
       " 'pixel493',\n",
       " 'pixel494',\n",
       " 'pixel495',\n",
       " 'pixel496',\n",
       " 'pixel497',\n",
       " 'pixel498',\n",
       " 'pixel499',\n",
       " 'pixel500',\n",
       " 'pixel501',\n",
       " 'pixel502',\n",
       " 'pixel503',\n",
       " 'pixel504',\n",
       " 'pixel505',\n",
       " 'pixel506',\n",
       " 'pixel507',\n",
       " 'pixel508',\n",
       " 'pixel509',\n",
       " 'pixel510',\n",
       " 'pixel511',\n",
       " 'pixel512',\n",
       " 'pixel513',\n",
       " 'pixel514',\n",
       " 'pixel515',\n",
       " 'pixel516',\n",
       " 'pixel517',\n",
       " 'pixel518',\n",
       " 'pixel519',\n",
       " 'pixel520',\n",
       " 'pixel521',\n",
       " 'pixel522',\n",
       " 'pixel523',\n",
       " 'pixel524',\n",
       " 'pixel525',\n",
       " 'pixel526',\n",
       " 'pixel527',\n",
       " 'pixel528',\n",
       " 'pixel529',\n",
       " 'pixel530',\n",
       " 'pixel531',\n",
       " 'pixel532',\n",
       " 'pixel533',\n",
       " 'pixel534',\n",
       " 'pixel535',\n",
       " 'pixel536',\n",
       " 'pixel537',\n",
       " 'pixel538',\n",
       " 'pixel539',\n",
       " 'pixel540',\n",
       " 'pixel541',\n",
       " 'pixel542',\n",
       " 'pixel543',\n",
       " 'pixel544',\n",
       " 'pixel545',\n",
       " 'pixel546',\n",
       " 'pixel547',\n",
       " 'pixel548',\n",
       " 'pixel549',\n",
       " 'pixel550',\n",
       " 'pixel551',\n",
       " 'pixel552',\n",
       " 'pixel553',\n",
       " 'pixel554',\n",
       " 'pixel555',\n",
       " 'pixel556',\n",
       " 'pixel557',\n",
       " 'pixel558',\n",
       " 'pixel559',\n",
       " 'pixel560',\n",
       " 'pixel561',\n",
       " 'pixel562',\n",
       " 'pixel563',\n",
       " 'pixel564',\n",
       " 'pixel565',\n",
       " 'pixel566',\n",
       " 'pixel567',\n",
       " 'pixel568',\n",
       " 'pixel569',\n",
       " 'pixel570',\n",
       " 'pixel571',\n",
       " 'pixel572',\n",
       " 'pixel573',\n",
       " 'pixel574',\n",
       " 'pixel575',\n",
       " 'pixel576',\n",
       " 'pixel577',\n",
       " 'pixel578',\n",
       " 'pixel579',\n",
       " 'pixel580',\n",
       " 'pixel581',\n",
       " 'pixel582',\n",
       " 'pixel583',\n",
       " 'pixel584',\n",
       " 'pixel585',\n",
       " 'pixel586',\n",
       " 'pixel587',\n",
       " 'pixel588',\n",
       " 'pixel589',\n",
       " 'pixel590',\n",
       " 'pixel591',\n",
       " 'pixel592',\n",
       " 'pixel593',\n",
       " 'pixel594',\n",
       " 'pixel595',\n",
       " 'pixel596',\n",
       " 'pixel597',\n",
       " 'pixel598',\n",
       " 'pixel599',\n",
       " 'pixel600',\n",
       " 'pixel601',\n",
       " 'pixel602',\n",
       " 'pixel603',\n",
       " 'pixel604',\n",
       " 'pixel605',\n",
       " 'pixel606',\n",
       " 'pixel607',\n",
       " 'pixel608',\n",
       " 'pixel609',\n",
       " 'pixel610',\n",
       " 'pixel611',\n",
       " 'pixel612',\n",
       " 'pixel613',\n",
       " 'pixel614',\n",
       " 'pixel615',\n",
       " 'pixel616',\n",
       " 'pixel617',\n",
       " 'pixel618',\n",
       " 'pixel619',\n",
       " 'pixel620',\n",
       " 'pixel621',\n",
       " 'pixel622',\n",
       " 'pixel623',\n",
       " 'pixel624',\n",
       " 'pixel625',\n",
       " 'pixel626',\n",
       " 'pixel627',\n",
       " 'pixel628',\n",
       " 'pixel629',\n",
       " 'pixel630',\n",
       " 'pixel631',\n",
       " 'pixel632',\n",
       " 'pixel633',\n",
       " 'pixel634',\n",
       " 'pixel635',\n",
       " 'pixel636',\n",
       " 'pixel637',\n",
       " 'pixel638',\n",
       " 'pixel639',\n",
       " 'pixel640',\n",
       " 'pixel641',\n",
       " 'pixel642',\n",
       " 'pixel643',\n",
       " 'pixel644',\n",
       " 'pixel645',\n",
       " 'pixel646',\n",
       " 'pixel647',\n",
       " 'pixel648',\n",
       " 'pixel649',\n",
       " 'pixel650',\n",
       " 'pixel651',\n",
       " 'pixel652',\n",
       " 'pixel653',\n",
       " 'pixel654',\n",
       " 'pixel655',\n",
       " 'pixel656',\n",
       " 'pixel657',\n",
       " 'pixel658',\n",
       " 'pixel659',\n",
       " 'pixel660',\n",
       " 'pixel661',\n",
       " 'pixel662',\n",
       " 'pixel663',\n",
       " 'pixel664',\n",
       " 'pixel665',\n",
       " 'pixel666',\n",
       " 'pixel667',\n",
       " 'pixel668',\n",
       " 'pixel669',\n",
       " 'pixel670',\n",
       " 'pixel671',\n",
       " 'pixel672',\n",
       " 'pixel673',\n",
       " 'pixel674',\n",
       " 'pixel675',\n",
       " 'pixel676',\n",
       " 'pixel677',\n",
       " 'pixel678',\n",
       " 'pixel679',\n",
       " 'pixel680',\n",
       " 'pixel681',\n",
       " 'pixel682',\n",
       " 'pixel683',\n",
       " 'pixel684',\n",
       " 'pixel685',\n",
       " 'pixel686',\n",
       " 'pixel687',\n",
       " 'pixel688',\n",
       " 'pixel689',\n",
       " 'pixel690',\n",
       " 'pixel691',\n",
       " 'pixel692',\n",
       " 'pixel693',\n",
       " 'pixel694',\n",
       " 'pixel695',\n",
       " 'pixel696',\n",
       " 'pixel697',\n",
       " 'pixel698',\n",
       " 'pixel699',\n",
       " 'pixel700',\n",
       " 'pixel701',\n",
       " 'pixel702',\n",
       " 'pixel703',\n",
       " 'pixel704',\n",
       " 'pixel705',\n",
       " 'pixel706',\n",
       " 'pixel707',\n",
       " 'pixel708',\n",
       " 'pixel709',\n",
       " 'pixel710',\n",
       " 'pixel711',\n",
       " 'pixel712',\n",
       " 'pixel713',\n",
       " 'pixel714',\n",
       " 'pixel715',\n",
       " 'pixel716',\n",
       " 'pixel717',\n",
       " 'pixel718',\n",
       " 'pixel719',\n",
       " 'pixel720',\n",
       " 'pixel721',\n",
       " 'pixel722',\n",
       " 'pixel723',\n",
       " 'pixel724',\n",
       " 'pixel725',\n",
       " 'pixel726',\n",
       " 'pixel727',\n",
       " 'pixel728',\n",
       " 'pixel729',\n",
       " 'pixel730',\n",
       " 'pixel731',\n",
       " 'pixel732',\n",
       " 'pixel733',\n",
       " 'pixel734',\n",
       " 'pixel735',\n",
       " 'pixel736',\n",
       " 'pixel737',\n",
       " 'pixel738',\n",
       " 'pixel739',\n",
       " 'pixel740',\n",
       " 'pixel741',\n",
       " 'pixel742',\n",
       " 'pixel743',\n",
       " 'pixel744',\n",
       " 'pixel745',\n",
       " 'pixel746',\n",
       " 'pixel747',\n",
       " 'pixel748',\n",
       " 'pixel749',\n",
       " 'pixel750',\n",
       " 'pixel751',\n",
       " 'pixel752',\n",
       " 'pixel753',\n",
       " 'pixel754',\n",
       " 'pixel755',\n",
       " 'pixel756',\n",
       " 'pixel757',\n",
       " 'pixel758',\n",
       " 'pixel759',\n",
       " 'pixel760',\n",
       " 'pixel761',\n",
       " 'pixel762',\n",
       " 'pixel763',\n",
       " 'pixel764',\n",
       " 'pixel765',\n",
       " 'pixel766',\n",
       " 'pixel767',\n",
       " 'pixel768',\n",
       " 'pixel769',\n",
       " 'pixel770',\n",
       " 'pixel771',\n",
       " 'pixel772',\n",
       " 'pixel773',\n",
       " 'pixel774',\n",
       " 'pixel775',\n",
       " 'pixel776',\n",
       " 'pixel777',\n",
       " 'pixel778',\n",
       " 'pixel779',\n",
       " 'pixel780',\n",
       " 'pixel781',\n",
       " 'pixel782',\n",
       " 'pixel783']"
      ]
     },
     "execution_count": 36,
     "metadata": {},
     "output_type": "execute_result"
    }
   ],
   "source": [
    "# This grabs all of the columns \n",
    "pixel_cols = df.columns\n",
    "\n",
    "# This is currently a pandas index object\n",
    "# print(type(pixel_cols))\n",
    "\n",
    "# Convert the pandas index object into a regular list\n",
    "pixel_cols = list(pixel_cols)\n",
    "\n",
    "# Sanity check that it is now just a list.\n",
    "# print(type(pixel_cols))\n",
    "\n",
    "# Remove the label column from the list\n",
    "# So all that remains are the pixel columns\n",
    "# This happnes 'in place'\n",
    "pixel_cols.remove('label')\n",
    "\n",
    "pixel_cols"
   ]
  },
  {
   "cell_type": "markdown",
   "metadata": {},
   "source": [
    "# Extract one row and reshape it to its original shape."
   ]
  },
  {
   "cell_type": "code",
   "execution_count": 37,
   "metadata": {},
   "outputs": [
    {
     "data": {
      "text/plain": [
       "<matplotlib.image.AxesImage at 0x1c1ffbf0d30>"
      ]
     },
     "execution_count": 37,
     "metadata": {},
     "output_type": "execute_result"
    },
    {
     "data": {
      "image/png": "[encoded data removed]",
      "text/plain": [
       "<Figure size 576x576 with 1 Axes>"
      ]
     },
     "metadata": {
      "needs_background": "light"
     },
     "output_type": "display_data"
    }
   ],
   "source": [
    "# Set the size of our plot\n",
    "plt.figure(figsize=(8,8))\n",
    "\n",
    "\n",
    "# Select just the pixel columns and convert them to a numpy array by using .values. \n",
    "imgs = df[pixel_cols].values\n",
    "\n",
    "# print(type(imgs))\n",
    "\n",
    "# Select just one image from \n",
    "img = imgs[999]\n",
    "\n",
    "# Reshape the image to be a 28x28 matrix (original format of image)\n",
    "img = img.reshape(28,28)\n",
    "\n",
    "# Plot reshaped image\n",
    "plt.imshow(img, cmap='gray')"
   ]
  },
  {
   "cell_type": "code",
   "execution_count": 38,
   "metadata": {},
   "outputs": [
    {
     "name": "stdout",
     "output_type": "stream",
     "text": [
      "(28, 28) <class 'numpy.ndarray'>\n",
      "(784,) <class 'numpy.ndarray'>\n"
     ]
    }
   ],
   "source": [
    "# Print the dimensions and type of the image\n",
    "print(img.shape, type(img))\n",
    "\n",
    "# Flatten the image using .flatten()\n",
    "flat_image = img.flatten()\n",
    "\n",
    "# Print the dimensions and type of the flat image\n",
    "print(flat_image.shape, type(flat_image))"
   ]
  },
  {
   "cell_type": "markdown",
   "metadata": {},
   "source": [
    "## What does the image look like if we dont reshape the image..?  \n",
    "This is what the classifier will be 'seeing'."
   ]
  },
  {
   "cell_type": "code",
   "execution_count": 39,
   "metadata": {},
   "outputs": [
    {
     "data": {
      "text/plain": [
       "<matplotlib.image.AxesImage at 0x1c1ffe4ac50>"
      ]
     },
     "execution_count": 39,
     "metadata": {},
     "output_type": "execute_result"
    },
    {
     "data": {
      "image/png": "[encoded data removed]",
      "text/plain": [
       "<Figure size 576x1512 with 1 Axes>"
      ]
     },
     "metadata": {
      "needs_background": "light"
     },
     "output_type": "display_data"
    }
   ],
   "source": [
    "plt.figure(figsize=(8,21))\n",
    "\n",
    "# Select just one image from \n",
    "img = imgs[9]\n",
    "\n",
    "# Reshape the image to be a 784 by 1 \n",
    "img = img.reshape(784,1)\n",
    "\n",
    "# Plot reshaped image\n",
    "plt.imshow(img, cmap='gray')"
   ]
  },
  {
   "cell_type": "markdown",
   "metadata": {},
   "source": [
    "## Small detour on loading images."
   ]
  },
  {
   "cell_type": "code",
   "execution_count": 40,
   "metadata": {},
   "outputs": [
    {
     "name": "stdout",
     "output_type": "stream",
     "text": [
      "(563, 1000)\n"
     ]
    },
    {
     "data": {
      "text/plain": [
       "<matplotlib.image.AxesImage at 0x1c1ffeb1b70>"
      ]
     },
     "execution_count": 40,
     "metadata": {},
     "output_type": "execute_result"
    },
    {
     "data": {
      "image/png": "[encoded data removed]",
      "text/plain": [
       "<Figure size 432x288 with 1 Axes>"
      ]
     },
     "metadata": {
      "needs_background": "light"
     },
     "output_type": "display_data"
    }
   ],
   "source": [
    "file_path = 'data/bender-and-baby.jpeg'\n",
    "\n",
    "image = io.imread(file_path)\n",
    "\n",
    "print(image.shape)\n",
    "\n",
    "io.imshow(image)"
   ]
  },
  {
   "cell_type": "markdown",
   "metadata": {},
   "source": [
    "___\n",
    "# 2. Select and engineer our features.\n",
    "1. Create our `selected_features` that is the list of the columns we are going to use as our `X` data. \n",
    "2. Define our `X` and `y` data. \n",
    "2. Train-test-split our `X` and `y` data"
   ]
  },
  {
   "cell_type": "markdown",
   "metadata": {},
   "source": [
    "### 1. Create our `selected_features` that is the list of the columns we are going to use as our `X` data. "
   ]
  },
  {
   "cell_type": "code",
   "execution_count": 41,
   "metadata": {},
   "outputs": [
    {
     "name": "stdout",
     "output_type": "stream",
     "text": [
      "<class 'pandas.core.indexes.base.Index'>\n",
      "<class 'list'>\n"
     ]
    }
   ],
   "source": [
    "# IM DOING THIS AGAIN JUST FOR PRACTICE \n",
    "\n",
    "# This grabs all of the columns \n",
    "selected_features = df.columns\n",
    "\n",
    "# This is currently a pandas index object\n",
    "print(type(selected_features))\n",
    "\n",
    "# Convert the pandas index object into a regular list\n",
    "selected_features = list(selected_features)\n",
    "\n",
    "# Sanity check that it is now just a list.\n",
    "print(type(selected_features))\n",
    "\n",
    "# Remove the label column from the list\n",
    "# So all that remains are the pixel columns\n",
    "# This happnes 'in place'\n",
    "selected_features.remove('label')\n",
    "\n",
    "# selected_features"
   ]
  },
  {
   "cell_type": "markdown",
   "metadata": {},
   "source": [
    "### 2. Define our `X` and `y`"
   ]
  },
  {
   "cell_type": "code",
   "execution_count": 42,
   "metadata": {},
   "outputs": [],
   "source": [
    "X = df[selected_features]\n",
    "\n",
    "y = df['label']"
   ]
  },
  {
   "cell_type": "code",
   "execution_count": null,
   "metadata": {},
   "outputs": [],
   "source": [
    "# Sanity checking the size of our dataframe / class balances. \n",
    "print(df.shape)\n",
    "df.label.value_counts()"
   ]
  },
  {
   "cell_type": "markdown",
   "metadata": {},
   "source": [
    "### 3. Train-test-split our `X` and `y` data"
   ]
  },
  {
   "cell_type": "code",
   "execution_count": 43,
   "metadata": {},
   "outputs": [],
   "source": [
    "# 3. Train-test-split our `X` and `y` data\n",
    "X_train, X_test, y_train, y_test = train_test_split(\n",
    "    X, y, test_size=0.25)"
   ]
  },
  {
   "cell_type": "markdown",
   "metadata": {},
   "source": [
    "____\n",
    "# 3. Build and train our model\n",
    "1. Initalize an empty model.\n",
    "2. Fit that model. "
   ]
  },
  {
   "cell_type": "code",
   "execution_count": 44,
   "metadata": {},
   "outputs": [],
   "source": [
    "# from sklearn import svm\n",
    "\n",
    "# Initalize our Support Vector Classifier\n",
    "model = SVC()"
   ]
  },
  {
   "cell_type": "code",
   "execution_count": 45,
   "metadata": {},
   "outputs": [
    {
     "data": {
      "text/html": [
       "<style>#sk-container-id-1 {color: black;background-color: white;}#sk-container-id-1 pre{padding: 0;}#sk-container-id-1 div.sk-toggleable {background-color: white;}#sk-container-id-1 label.sk-toggleable__label {cursor: pointer;display: block;width: 100%;margin-bottom: 0;padding: 0.3em;box-sizing: border-box;text-align: center;}#sk-container-id-1 label.sk-toggleable__label-arrow:before {content: \"▸\";float: left;margin-right: 0.25em;color: #696969;}#sk-container-id-1 label.sk-toggleable__label-arrow:hover:before {color: black;}#sk-container-id-1 div.sk-estimator:hover label.sk-toggleable__label-arrow:before {color: black;}#sk-container-id-1 div.sk-toggleable__content {max-height: 0;max-width: 0;overflow: hidden;text-align: left;background-color: #f0f8ff;}#sk-container-id-1 div.sk-toggleable__content pre {margin: 0.2em;color: black;border-radius: 0.25em;background-color: #f0f8ff;}#sk-container-id-1 input.sk-toggleable__control:checked~div.sk-toggleable__content {max-height: 200px;max-width: 100%;overflow: auto;}#sk-container-id-1 input.sk-toggleable__control:checked~label.sk-toggleable__label-arrow:before {content: \"▾\";}#sk-container-id-1 div.sk-estimator input.sk-toggleable__control:checked~label.sk-toggleable__label {background-color: #d4ebff;}#sk-container-id-1 div.sk-label input.sk-toggleable__control:checked~label.sk-toggleable__label {background-color: #d4ebff;}#sk-container-id-1 input.sk-hidden--visually {border: 0;clip: rect(1px 1px 1px 1px);clip: rect(1px, 1px, 1px, 1px);height: 1px;margin: -1px;overflow: hidden;padding: 0;position: absolute;width: 1px;}#sk-container-id-1 div.sk-estimator {font-family: monospace;background-color: #f0f8ff;border: 1px dotted black;border-radius: 0.25em;box-sizing: border-box;margin-bottom: 0.5em;}#sk-container-id-1 div.sk-estimator:hover {background-color: #d4ebff;}#sk-container-id-1 div.sk-parallel-item::after {content: \"\";width: 100%;border-bottom: 1px solid gray;flex-grow: 1;}#sk-container-id-1 div.sk-label:hover label.sk-toggleable__label {background-color: #d4ebff;}#sk-container-id-1 div.sk-serial::before {content: \"\";position: absolute;border-left: 1px solid gray;box-sizing: border-box;top: 0;bottom: 0;left: 50%;z-index: 0;}#sk-container-id-1 div.sk-serial {display: flex;flex-direction: column;align-items: center;background-color: white;padding-right: 0.2em;padding-left: 0.2em;position: relative;}#sk-container-id-1 div.sk-item {position: relative;z-index: 1;}#sk-container-id-1 div.sk-parallel {display: flex;align-items: stretch;justify-content: center;background-color: white;position: relative;}#sk-container-id-1 div.sk-item::before, #sk-container-id-1 div.sk-parallel-item::before {content: \"\";position: absolute;border-left: 1px solid gray;box-sizing: border-box;top: 0;bottom: 0;left: 50%;z-index: -1;}#sk-container-id-1 div.sk-parallel-item {display: flex;flex-direction: column;z-index: 1;position: relative;background-color: white;}#sk-container-id-1 div.sk-parallel-item:first-child::after {align-self: flex-end;width: 50%;}#sk-container-id-1 div.sk-parallel-item:last-child::after {align-self: flex-start;width: 50%;}#sk-container-id-1 div.sk-parallel-item:only-child::after {width: 0;}#sk-container-id-1 div.sk-dashed-wrapped {border: 1px dashed gray;margin: 0 0.4em 0.5em 0.4em;box-sizing: border-box;padding-bottom: 0.4em;background-color: white;}#sk-container-id-1 div.sk-label label {font-family: monospace;font-weight: bold;display: inline-block;line-height: 1.2em;}#sk-container-id-1 div.sk-label-container {text-align: center;}#sk-container-id-1 div.sk-container {/* jupyter's `normalize.less` sets `[hidden] { display: none; }` but bootstrap.min.css set `[hidden] { display: none !important; }` so we also need the `!important` here to be able to override the default hidden behavior on the sphinx rendered scikit-learn.org. See: https://github.com/scikit-learn/scikit-learn/issues/21755 */display: inline-block !important;position: relative;}#sk-container-id-1 div.sk-text-repr-fallback {display: none;}</style><div id=\"sk-container-id-1\" class=\"sk-top-container\"><div class=\"sk-text-repr-fallback\"><pre>SVC()</pre><b>In a Jupyter environment, please rerun this cell to show the HTML representation or trust the notebook. <br />On GitHub, the HTML representation is unable to render, please try loading this page with nbviewer.org.</b></div><div class=\"sk-container\" hidden><div class=\"sk-item\"><div class=\"sk-estimator sk-toggleable\"><input class=\"sk-toggleable__control sk-hidden--visually\" id=\"sk-estimator-id-1\" type=\"checkbox\" checked><label for=\"sk-estimator-id-1\" class=\"sk-toggleable__label sk-toggleable__label-arrow\">SVC</label><div class=\"sk-toggleable__content\"><pre>SVC()</pre></div></div></div></div></div>"
      ],
      "text/plain": [
       "SVC()"
      ]
     },
     "execution_count": 45,
     "metadata": {},
     "output_type": "execute_result"
    }
   ],
   "source": [
    "model.fit(X_train, y_train)"
   ]
  },
  {
   "cell_type": "markdown",
   "metadata": {},
   "source": [
    "___\n",
    "# 4. Evaluate our model\n",
    "1. Get a baseline accuracy score.\n",
    "2. Make new predictions using our test data. \n",
    "3. Print the classification report. \n",
    "4. Plot the confusion matrix of our predicted results. "
   ]
  },
  {
   "cell_type": "markdown",
   "metadata": {},
   "source": [
    "### 1. Make new predictions using our test data. "
   ]
  },
  {
   "cell_type": "code",
   "execution_count": 46,
   "metadata": {},
   "outputs": [
    {
     "name": "stdout",
     "output_type": "stream",
     "text": [
      "Accuracy 0.949524\n"
     ]
    }
   ],
   "source": [
    "accuracy = model.score(X_test, y_test)\n",
    "print(\"Accuracy %f\" % accuracy)"
   ]
  },
  {
   "cell_type": "code",
   "execution_count": null,
   "metadata": {},
   "outputs": [],
   "source": [
    "# This will not work.\n",
    "# model.predict_proba(X_test)"
   ]
  },
  {
   "cell_type": "markdown",
   "metadata": {},
   "source": [
    "### 2. Make new predictions using our test data. "
   ]
  },
  {
   "cell_type": "code",
   "execution_count": 48,
   "metadata": {},
   "outputs": [],
   "source": [
    "y_pred = model.predict(X_test)"
   ]
  },
  {
   "cell_type": "markdown",
   "metadata": {},
   "source": [
    "### 3. Print the classification report. "
   ]
  },
  {
   "cell_type": "code",
   "execution_count": 49,
   "metadata": {},
   "outputs": [
    {
     "name": "stdout",
     "output_type": "stream",
     "text": [
      "              precision    recall  f1-score   support\n",
      "\n",
      "           0       0.95      0.97      0.96       116\n",
      "           1       0.99      0.99      0.99        96\n",
      "           2       0.94      0.95      0.94        93\n",
      "           3       0.95      0.96      0.96       122\n",
      "           4       0.95      0.94      0.95       105\n",
      "           5       0.94      0.96      0.95        99\n",
      "           6       0.95      0.96      0.96       100\n",
      "           7       0.98      0.93      0.95       111\n",
      "           8       0.93      0.93      0.93       107\n",
      "           9       0.92      0.92      0.92       101\n",
      "\n",
      "    accuracy                           0.95      1050\n",
      "   macro avg       0.95      0.95      0.95      1050\n",
      "weighted avg       0.95      0.95      0.95      1050\n",
      "\n"
     ]
    }
   ],
   "source": [
    "print(metrics.classification_report(y_test, y_pred))"
   ]
  },
  {
   "cell_type": "markdown",
   "metadata": {},
   "source": [
    "### 4. Plot the confusion matrix of our predicted results. "
   ]
  },
  {
   "cell_type": "code",
   "execution_count": null,
   "metadata": {},
   "outputs": [],
   "source": [
    "# fig, ax = plt.subplots(figsize=(13,13))\n",
    "# from sklearn.metrics import ConfusionMatrixDisplay\n",
    "# ConfusionMatrixDisplay.from_estimator(estimator= model,\n",
    "#                                       X= X_test,\n",
    "#                                       y_true = y_test,\n",
    "#                                       ax= ax)"
   ]
  },
  {
   "cell_type": "code",
   "execution_count": 50,
   "metadata": {},
   "outputs": [
    {
     "name": "stderr",
     "output_type": "stream",
     "text": [
      "C:\\Users\\jetbu\\AppData\\Local\\Packages\\PythonSoftwareFoundation.Python.3.10_qbz5n2kfra8p0\\LocalCache\\local-packages\\Python310\\site-packages\\sklearn\\utils\\deprecation.py:87: FutureWarning: Function plot_confusion_matrix is deprecated; Function `plot_confusion_matrix` is deprecated in 1.0 and will be removed in 1.2. Use one of the class methods: ConfusionMatrixDisplay.from_predictions or ConfusionMatrixDisplay.from_estimator.\n",
      "  warnings.warn(msg, category=FutureWarning)\n"
     ]
    },
    {
     "data": {
      "text/plain": [
       "<sklearn.metrics._plot.confusion_matrix.ConfusionMatrixDisplay at 0x1c1fffcc1c0>"
      ]
     },
     "execution_count": 50,
     "metadata": {},
     "output_type": "execute_result"
    },
    {
     "data": {
      "image/png": "[encoded data removed]",
      "text/plain": [
       "<Figure size 936x936 with 2 Axes>"
      ]
     },
     "metadata": {
      "needs_background": "light"
     },
     "output_type": "display_data"
    }
   ],
   "source": [
    "fig, ax = plt.subplots(figsize=(13,13))\n",
    "metrics.plot_confusion_matrix(estimator=model, \n",
    "                              X=X_test, \n",
    "                              y_true=y_test, \n",
    "                              ax=ax)"
   ]
  },
  {
   "cell_type": "code",
   "execution_count": 52,
   "metadata": {},
   "outputs": [],
   "source": [
    "# Lets build a function in which we can easily do all of this for any new model. \n",
    "\n",
    "def build_and_eval_model(model, X, y, random_state=23):\n",
    "    print(\"Running report for model\", model)\n",
    "\n",
    "    X_train, X_test, y_train, y_test = train_test_split(\n",
    "        X, y, test_size=0.25, random_state=random_state)    \n",
    "    \n",
    "    # Fit our model.\n",
    "    model.fit(X_train, y_train)\n",
    "    \n",
    "    # Get the accuracy\n",
    "    accuracy = model.score(X_test, y_test)\n",
    "    print(\"\\n\\nAccuracy %f\" % accuracy)\n",
    "    \n",
    "    \n",
    "    # Make new predictions\n",
    "    y_pred = model.predict(X_test)\n",
    "    \n",
    "    \n",
    "    # Print the classification report. \n",
    "    print(metrics.classification_report(y_test, y_pred))\n",
    "    \n",
    "        \n",
    "    # Plot the confusion matrix\n",
    "    fig, ax = plt.subplots(figsize=(13,13))\n",
    "    \n",
    "    metrics.plot_confusion_matrix(estimator=model, \n",
    "                                  X=X_test, \n",
    "                                  y_true=y_test, \n",
    "                                  ax=ax)\n",
    "\n",
    "    # Return the fitted model. \n",
    "    return model"
   ]
  },
  {
   "cell_type": "code",
   "execution_count": 53,
   "metadata": {},
   "outputs": [
    {
     "name": "stdout",
     "output_type": "stream",
     "text": [
      "Running report for model LogisticRegression()\n",
      "\n",
      "\n",
      "Accuracy 0.871429\n",
      "              precision    recall  f1-score   support\n",
      "\n",
      "           0       0.89      0.96      0.92       115\n",
      "           1       0.95      0.95      0.95       123\n",
      "           2       0.82      0.79      0.80       103\n",
      "           3       0.83      0.77      0.80       100\n",
      "           4       0.88      0.90      0.89        98\n",
      "           5       0.80      0.84      0.82       102\n",
      "           6       0.94      0.90      0.92       114\n",
      "           7       0.91      0.92      0.92       103\n",
      "           8       0.79      0.80      0.80        85\n",
      "           9       0.86      0.84      0.85       107\n",
      "\n",
      "    accuracy                           0.87      1050\n",
      "   macro avg       0.87      0.87      0.87      1050\n",
      "weighted avg       0.87      0.87      0.87      1050\n",
      "\n"
     ]
    },
    {
     "name": "stderr",
     "output_type": "stream",
     "text": [
      "C:\\Users\\jetbu\\AppData\\Local\\Packages\\PythonSoftwareFoundation.Python.3.10_qbz5n2kfra8p0\\LocalCache\\local-packages\\Python310\\site-packages\\sklearn\\linear_model\\_logistic.py:444: ConvergenceWarning: lbfgs failed to converge (status=1):\n",
      "STOP: TOTAL NO. of ITERATIONS REACHED LIMIT.\n",
      "\n",
      "Increase the number of iterations (max_iter) or scale the data as shown in:\n",
      "    https://scikit-learn.org/stable/modules/preprocessing.html\n",
      "Please also refer to the documentation for alternative solver options:\n",
      "    https://scikit-learn.org/stable/modules/linear_model.html#logistic-regression\n",
      "  n_iter_i = _check_optimize_result(\n",
      "C:\\Users\\jetbu\\AppData\\Local\\Packages\\PythonSoftwareFoundation.Python.3.10_qbz5n2kfra8p0\\LocalCache\\local-packages\\Python310\\site-packages\\sklearn\\utils\\deprecation.py:87: FutureWarning: Function plot_confusion_matrix is deprecated; Function `plot_confusion_matrix` is deprecated in 1.0 and will be removed in 1.2. Use one of the class methods: ConfusionMatrixDisplay.from_predictions or ConfusionMatrixDisplay.from_estimator.\n",
      "  warnings.warn(msg, category=FutureWarning)\n"
     ]
    },
    {
     "data": {
      "text/html": [
       "<style>#sk-container-id-2 {color: black;background-color: white;}#sk-container-id-2 pre{padding: 0;}#sk-container-id-2 div.sk-toggleable {background-color: white;}#sk-container-id-2 label.sk-toggleable__label {cursor: pointer;display: block;width: 100%;margin-bottom: 0;padding: 0.3em;box-sizing: border-box;text-align: center;}#sk-container-id-2 label.sk-toggleable__label-arrow:before {content: \"▸\";float: left;margin-right: 0.25em;color: #696969;}#sk-container-id-2 label.sk-toggleable__label-arrow:hover:before {color: black;}#sk-container-id-2 div.sk-estimator:hover label.sk-toggleable__label-arrow:before {color: black;}#sk-container-id-2 div.sk-toggleable__content {max-height: 0;max-width: 0;overflow: hidden;text-align: left;background-color: #f0f8ff;}#sk-container-id-2 div.sk-toggleable__content pre {margin: 0.2em;color: black;border-radius: 0.25em;background-color: #f0f8ff;}#sk-container-id-2 input.sk-toggleable__control:checked~div.sk-toggleable__content {max-height: 200px;max-width: 100%;overflow: auto;}#sk-container-id-2 input.sk-toggleable__control:checked~label.sk-toggleable__label-arrow:before {content: \"▾\";}#sk-container-id-2 div.sk-estimator input.sk-toggleable__control:checked~label.sk-toggleable__label {background-color: #d4ebff;}#sk-container-id-2 div.sk-label input.sk-toggleable__control:checked~label.sk-toggleable__label {background-color: #d4ebff;}#sk-container-id-2 input.sk-hidden--visually {border: 0;clip: rect(1px 1px 1px 1px);clip: rect(1px, 1px, 1px, 1px);height: 1px;margin: -1px;overflow: hidden;padding: 0;position: absolute;width: 1px;}#sk-container-id-2 div.sk-estimator {font-family: monospace;background-color: #f0f8ff;border: 1px dotted black;border-radius: 0.25em;box-sizing: border-box;margin-bottom: 0.5em;}#sk-container-id-2 div.sk-estimator:hover {background-color: #d4ebff;}#sk-container-id-2 div.sk-parallel-item::after {content: \"\";width: 100%;border-bottom: 1px solid gray;flex-grow: 1;}#sk-container-id-2 div.sk-label:hover label.sk-toggleable__label {background-color: #d4ebff;}#sk-container-id-2 div.sk-serial::before {content: \"\";position: absolute;border-left: 1px solid gray;box-sizing: border-box;top: 0;bottom: 0;left: 50%;z-index: 0;}#sk-container-id-2 div.sk-serial {display: flex;flex-direction: column;align-items: center;background-color: white;padding-right: 0.2em;padding-left: 0.2em;position: relative;}#sk-container-id-2 div.sk-item {position: relative;z-index: 1;}#sk-container-id-2 div.sk-parallel {display: flex;align-items: stretch;justify-content: center;background-color: white;position: relative;}#sk-container-id-2 div.sk-item::before, #sk-container-id-2 div.sk-parallel-item::before {content: \"\";position: absolute;border-left: 1px solid gray;box-sizing: border-box;top: 0;bottom: 0;left: 50%;z-index: -1;}#sk-container-id-2 div.sk-parallel-item {display: flex;flex-direction: column;z-index: 1;position: relative;background-color: white;}#sk-container-id-2 div.sk-parallel-item:first-child::after {align-self: flex-end;width: 50%;}#sk-container-id-2 div.sk-parallel-item:last-child::after {align-self: flex-start;width: 50%;}#sk-container-id-2 div.sk-parallel-item:only-child::after {width: 0;}#sk-container-id-2 div.sk-dashed-wrapped {border: 1px dashed gray;margin: 0 0.4em 0.5em 0.4em;box-sizing: border-box;padding-bottom: 0.4em;background-color: white;}#sk-container-id-2 div.sk-label label {font-family: monospace;font-weight: bold;display: inline-block;line-height: 1.2em;}#sk-container-id-2 div.sk-label-container {text-align: center;}#sk-container-id-2 div.sk-container {/* jupyter's `normalize.less` sets `[hidden] { display: none; }` but bootstrap.min.css set `[hidden] { display: none !important; }` so we also need the `!important` here to be able to override the default hidden behavior on the sphinx rendered scikit-learn.org. See: https://github.com/scikit-learn/scikit-learn/issues/21755 */display: inline-block !important;position: relative;}#sk-container-id-2 div.sk-text-repr-fallback {display: none;}</style><div id=\"sk-container-id-2\" class=\"sk-top-container\"><div class=\"sk-text-repr-fallback\"><pre>LogisticRegression()</pre><b>In a Jupyter environment, please rerun this cell to show the HTML representation or trust the notebook. <br />On GitHub, the HTML representation is unable to render, please try loading this page with nbviewer.org.</b></div><div class=\"sk-container\" hidden><div class=\"sk-item\"><div class=\"sk-estimator sk-toggleable\"><input class=\"sk-toggleable__control sk-hidden--visually\" id=\"sk-estimator-id-2\" type=\"checkbox\" checked><label for=\"sk-estimator-id-2\" class=\"sk-toggleable__label sk-toggleable__label-arrow\">LogisticRegression</label><div class=\"sk-toggleable__content\"><pre>LogisticRegression()</pre></div></div></div></div></div>"
      ],
      "text/plain": [
       "LogisticRegression()"
      ]
     },
     "execution_count": 53,
     "metadata": {},
     "output_type": "execute_result"
    },
    {
     "data": {
      "image/png": "[encoded data removed]",
      "text/plain": [
       "<Figure size 936x936 with 2 Axes>"
      ]
     },
     "metadata": {
      "needs_background": "light"
     },
     "output_type": "display_data"
    }
   ],
   "source": [
    "lr = LogisticRegression()\n",
    "build_and_eval_model(lr, X, y)"
   ]
  },
  {
   "cell_type": "code",
   "execution_count": 54,
   "metadata": {},
   "outputs": [
    {
     "name": "stdout",
     "output_type": "stream",
     "text": [
      "Running report for model RandomForestClassifier()\n",
      "\n",
      "\n",
      "Accuracy 0.913333\n",
      "              precision    recall  f1-score   support\n",
      "\n",
      "           0       0.92      0.98      0.95       115\n",
      "           1       0.97      0.97      0.97       123\n",
      "           2       0.93      0.90      0.92       103\n",
      "           3       0.88      0.86      0.87       100\n",
      "           4       0.94      0.89      0.91        98\n",
      "           5       0.89      0.81      0.85       102\n",
      "           6       0.93      0.96      0.94       114\n",
      "           7       0.95      0.89      0.92       103\n",
      "           8       0.93      0.88      0.90        85\n",
      "           9       0.82      0.95      0.88       107\n",
      "\n",
      "    accuracy                           0.91      1050\n",
      "   macro avg       0.91      0.91      0.91      1050\n",
      "weighted avg       0.92      0.91      0.91      1050\n",
      "\n"
     ]
    },
    {
     "name": "stderr",
     "output_type": "stream",
     "text": [
      "C:\\Users\\jetbu\\AppData\\Local\\Packages\\PythonSoftwareFoundation.Python.3.10_qbz5n2kfra8p0\\LocalCache\\local-packages\\Python310\\site-packages\\sklearn\\utils\\deprecation.py:87: FutureWarning: Function plot_confusion_matrix is deprecated; Function `plot_confusion_matrix` is deprecated in 1.0 and will be removed in 1.2. Use one of the class methods: ConfusionMatrixDisplay.from_predictions or ConfusionMatrixDisplay.from_estimator.\n",
      "  warnings.warn(msg, category=FutureWarning)\n"
     ]
    },
    {
     "data": {
      "text/html": [
       "<style>#sk-container-id-3 {color: black;background-color: white;}#sk-container-id-3 pre{padding: 0;}#sk-container-id-3 div.sk-toggleable {background-color: white;}#sk-container-id-3 label.sk-toggleable__label {cursor: pointer;display: block;width: 100%;margin-bottom: 0;padding: 0.3em;box-sizing: border-box;text-align: center;}#sk-container-id-3 label.sk-toggleable__label-arrow:before {content: \"▸\";float: left;margin-right: 0.25em;color: #696969;}#sk-container-id-3 label.sk-toggleable__label-arrow:hover:before {color: black;}#sk-container-id-3 div.sk-estimator:hover label.sk-toggleable__label-arrow:before {color: black;}#sk-container-id-3 div.sk-toggleable__content {max-height: 0;max-width: 0;overflow: hidden;text-align: left;background-color: #f0f8ff;}#sk-container-id-3 div.sk-toggleable__content pre {margin: 0.2em;color: black;border-radius: 0.25em;background-color: #f0f8ff;}#sk-container-id-3 input.sk-toggleable__control:checked~div.sk-toggleable__content {max-height: 200px;max-width: 100%;overflow: auto;}#sk-container-id-3 input.sk-toggleable__control:checked~label.sk-toggleable__label-arrow:before {content: \"▾\";}#sk-container-id-3 div.sk-estimator input.sk-toggleable__control:checked~label.sk-toggleable__label {background-color: #d4ebff;}#sk-container-id-3 div.sk-label input.sk-toggleable__control:checked~label.sk-toggleable__label {background-color: #d4ebff;}#sk-container-id-3 input.sk-hidden--visually {border: 0;clip: rect(1px 1px 1px 1px);clip: rect(1px, 1px, 1px, 1px);height: 1px;margin: -1px;overflow: hidden;padding: 0;position: absolute;width: 1px;}#sk-container-id-3 div.sk-estimator {font-family: monospace;background-color: #f0f8ff;border: 1px dotted black;border-radius: 0.25em;box-sizing: border-box;margin-bottom: 0.5em;}#sk-container-id-3 div.sk-estimator:hover {background-color: #d4ebff;}#sk-container-id-3 div.sk-parallel-item::after {content: \"\";width: 100%;border-bottom: 1px solid gray;flex-grow: 1;}#sk-container-id-3 div.sk-label:hover label.sk-toggleable__label {background-color: #d4ebff;}#sk-container-id-3 div.sk-serial::before {content: \"\";position: absolute;border-left: 1px solid gray;box-sizing: border-box;top: 0;bottom: 0;left: 50%;z-index: 0;}#sk-container-id-3 div.sk-serial {display: flex;flex-direction: column;align-items: center;background-color: white;padding-right: 0.2em;padding-left: 0.2em;position: relative;}#sk-container-id-3 div.sk-item {position: relative;z-index: 1;}#sk-container-id-3 div.sk-parallel {display: flex;align-items: stretch;justify-content: center;background-color: white;position: relative;}#sk-container-id-3 div.sk-item::before, #sk-container-id-3 div.sk-parallel-item::before {content: \"\";position: absolute;border-left: 1px solid gray;box-sizing: border-box;top: 0;bottom: 0;left: 50%;z-index: -1;}#sk-container-id-3 div.sk-parallel-item {display: flex;flex-direction: column;z-index: 1;position: relative;background-color: white;}#sk-container-id-3 div.sk-parallel-item:first-child::after {align-self: flex-end;width: 50%;}#sk-container-id-3 div.sk-parallel-item:last-child::after {align-self: flex-start;width: 50%;}#sk-container-id-3 div.sk-parallel-item:only-child::after {width: 0;}#sk-container-id-3 div.sk-dashed-wrapped {border: 1px dashed gray;margin: 0 0.4em 0.5em 0.4em;box-sizing: border-box;padding-bottom: 0.4em;background-color: white;}#sk-container-id-3 div.sk-label label {font-family: monospace;font-weight: bold;display: inline-block;line-height: 1.2em;}#sk-container-id-3 div.sk-label-container {text-align: center;}#sk-container-id-3 div.sk-container {/* jupyter's `normalize.less` sets `[hidden] { display: none; }` but bootstrap.min.css set `[hidden] { display: none !important; }` so we also need the `!important` here to be able to override the default hidden behavior on the sphinx rendered scikit-learn.org. See: https://github.com/scikit-learn/scikit-learn/issues/21755 */display: inline-block !important;position: relative;}#sk-container-id-3 div.sk-text-repr-fallback {display: none;}</style><div id=\"sk-container-id-3\" class=\"sk-top-container\"><div class=\"sk-text-repr-fallback\"><pre>RandomForestClassifier()</pre><b>In a Jupyter environment, please rerun this cell to show the HTML representation or trust the notebook. <br />On GitHub, the HTML representation is unable to render, please try loading this page with nbviewer.org.</b></div><div class=\"sk-container\" hidden><div class=\"sk-item\"><div class=\"sk-estimator sk-toggleable\"><input class=\"sk-toggleable__control sk-hidden--visually\" id=\"sk-estimator-id-3\" type=\"checkbox\" checked><label for=\"sk-estimator-id-3\" class=\"sk-toggleable__label sk-toggleable__label-arrow\">RandomForestClassifier</label><div class=\"sk-toggleable__content\"><pre>RandomForestClassifier()</pre></div></div></div></div></div>"
      ],
      "text/plain": [
       "RandomForestClassifier()"
      ]
     },
     "execution_count": 54,
     "metadata": {},
     "output_type": "execute_result"
    },
    {
     "data": {
      "image/png": "[encoded data removed]",
      "text/plain": [
       "<Figure size 936x936 with 2 Axes>"
      ]
     },
     "metadata": {
      "needs_background": "light"
     },
     "output_type": "display_data"
    }
   ],
   "source": [
    "rf = RandomForestClassifier()\n",
    "\n",
    "build_and_eval_model(rf, X, y)"
   ]
  },
  {
   "cell_type": "code",
   "execution_count": 56,
   "metadata": {},
   "outputs": [
    {
     "name": "stdout",
     "output_type": "stream",
     "text": [
      "Running report for model LinearSVC()\n",
      "\n",
      "\n",
      "Accuracy 0.814286\n",
      "              precision    recall  f1-score   support\n",
      "\n",
      "           0       0.87      0.92      0.89       115\n",
      "           1       0.94      0.93      0.94       123\n",
      "           2       0.75      0.71      0.73       103\n",
      "           3       0.77      0.76      0.76       100\n",
      "           4       0.88      0.77      0.82        98\n",
      "           5       0.82      0.79      0.81       102\n",
      "           6       0.90      0.91      0.91       114\n",
      "           7       0.86      0.87      0.87       103\n",
      "           8       0.63      0.66      0.64        85\n",
      "           9       0.68      0.74      0.71       107\n",
      "\n",
      "    accuracy                           0.81      1050\n",
      "   macro avg       0.81      0.81      0.81      1050\n",
      "weighted avg       0.82      0.81      0.81      1050\n",
      "\n"
     ]
    },
    {
     "name": "stderr",
     "output_type": "stream",
     "text": [
      "C:\\Users\\jetbu\\AppData\\Local\\Packages\\PythonSoftwareFoundation.Python.3.10_qbz5n2kfra8p0\\LocalCache\\local-packages\\Python310\\site-packages\\sklearn\\svm\\_base.py:1225: ConvergenceWarning: Liblinear failed to converge, increase the number of iterations.\n",
      "  warnings.warn(\n",
      "C:\\Users\\jetbu\\AppData\\Local\\Packages\\PythonSoftwareFoundation.Python.3.10_qbz5n2kfra8p0\\LocalCache\\local-packages\\Python310\\site-packages\\sklearn\\utils\\deprecation.py:87: FutureWarning: Function plot_confusion_matrix is deprecated; Function `plot_confusion_matrix` is deprecated in 1.0 and will be removed in 1.2. Use one of the class methods: ConfusionMatrixDisplay.from_predictions or ConfusionMatrixDisplay.from_estimator.\n",
      "  warnings.warn(msg, category=FutureWarning)\n"
     ]
    },
    {
     "data": {
      "text/html": [
       "<style>#sk-container-id-4 {color: black;background-color: white;}#sk-container-id-4 pre{padding: 0;}#sk-container-id-4 div.sk-toggleable {background-color: white;}#sk-container-id-4 label.sk-toggleable__label {cursor: pointer;display: block;width: 100%;margin-bottom: 0;padding: 0.3em;box-sizing: border-box;text-align: center;}#sk-container-id-4 label.sk-toggleable__label-arrow:before {content: \"▸\";float: left;margin-right: 0.25em;color: #696969;}#sk-container-id-4 label.sk-toggleable__label-arrow:hover:before {color: black;}#sk-container-id-4 div.sk-estimator:hover label.sk-toggleable__label-arrow:before {color: black;}#sk-container-id-4 div.sk-toggleable__content {max-height: 0;max-width: 0;overflow: hidden;text-align: left;background-color: #f0f8ff;}#sk-container-id-4 div.sk-toggleable__content pre {margin: 0.2em;color: black;border-radius: 0.25em;background-color: #f0f8ff;}#sk-container-id-4 input.sk-toggleable__control:checked~div.sk-toggleable__content {max-height: 200px;max-width: 100%;overflow: auto;}#sk-container-id-4 input.sk-toggleable__control:checked~label.sk-toggleable__label-arrow:before {content: \"▾\";}#sk-container-id-4 div.sk-estimator input.sk-toggleable__control:checked~label.sk-toggleable__label {background-color: #d4ebff;}#sk-container-id-4 div.sk-label input.sk-toggleable__control:checked~label.sk-toggleable__label {background-color: #d4ebff;}#sk-container-id-4 input.sk-hidden--visually {border: 0;clip: rect(1px 1px 1px 1px);clip: rect(1px, 1px, 1px, 1px);height: 1px;margin: -1px;overflow: hidden;padding: 0;position: absolute;width: 1px;}#sk-container-id-4 div.sk-estimator {font-family: monospace;background-color: #f0f8ff;border: 1px dotted black;border-radius: 0.25em;box-sizing: border-box;margin-bottom: 0.5em;}#sk-container-id-4 div.sk-estimator:hover {background-color: #d4ebff;}#sk-container-id-4 div.sk-parallel-item::after {content: \"\";width: 100%;border-bottom: 1px solid gray;flex-grow: 1;}#sk-container-id-4 div.sk-label:hover label.sk-toggleable__label {background-color: #d4ebff;}#sk-container-id-4 div.sk-serial::before {content: \"\";position: absolute;border-left: 1px solid gray;box-sizing: border-box;top: 0;bottom: 0;left: 50%;z-index: 0;}#sk-container-id-4 div.sk-serial {display: flex;flex-direction: column;align-items: center;background-color: white;padding-right: 0.2em;padding-left: 0.2em;position: relative;}#sk-container-id-4 div.sk-item {position: relative;z-index: 1;}#sk-container-id-4 div.sk-parallel {display: flex;align-items: stretch;justify-content: center;background-color: white;position: relative;}#sk-container-id-4 div.sk-item::before, #sk-container-id-4 div.sk-parallel-item::before {content: \"\";position: absolute;border-left: 1px solid gray;box-sizing: border-box;top: 0;bottom: 0;left: 50%;z-index: -1;}#sk-container-id-4 div.sk-parallel-item {display: flex;flex-direction: column;z-index: 1;position: relative;background-color: white;}#sk-container-id-4 div.sk-parallel-item:first-child::after {align-self: flex-end;width: 50%;}#sk-container-id-4 div.sk-parallel-item:last-child::after {align-self: flex-start;width: 50%;}#sk-container-id-4 div.sk-parallel-item:only-child::after {width: 0;}#sk-container-id-4 div.sk-dashed-wrapped {border: 1px dashed gray;margin: 0 0.4em 0.5em 0.4em;box-sizing: border-box;padding-bottom: 0.4em;background-color: white;}#sk-container-id-4 div.sk-label label {font-family: monospace;font-weight: bold;display: inline-block;line-height: 1.2em;}#sk-container-id-4 div.sk-label-container {text-align: center;}#sk-container-id-4 div.sk-container {/* jupyter's `normalize.less` sets `[hidden] { display: none; }` but bootstrap.min.css set `[hidden] { display: none !important; }` so we also need the `!important` here to be able to override the default hidden behavior on the sphinx rendered scikit-learn.org. See: https://github.com/scikit-learn/scikit-learn/issues/21755 */display: inline-block !important;position: relative;}#sk-container-id-4 div.sk-text-repr-fallback {display: none;}</style><div id=\"sk-container-id-4\" class=\"sk-top-container\"><div class=\"sk-text-repr-fallback\"><pre>LinearSVC()</pre><b>In a Jupyter environment, please rerun this cell to show the HTML representation or trust the notebook. <br />On GitHub, the HTML representation is unable to render, please try loading this page with nbviewer.org.</b></div><div class=\"sk-container\" hidden><div class=\"sk-item\"><div class=\"sk-estimator sk-toggleable\"><input class=\"sk-toggleable__control sk-hidden--visually\" id=\"sk-estimator-id-4\" type=\"checkbox\" checked><label for=\"sk-estimator-id-4\" class=\"sk-toggleable__label sk-toggleable__label-arrow\">LinearSVC</label><div class=\"sk-toggleable__content\"><pre>LinearSVC()</pre></div></div></div></div></div>"
      ],
      "text/plain": [
       "LinearSVC()"
      ]
     },
     "execution_count": 56,
     "metadata": {},
     "output_type": "execute_result"
    },
    {
     "data": {
      "image/png": "[encoded data removed]",
      "text/plain": [
       "<Figure size 936x936 with 2 Axes>"
      ]
     },
     "metadata": {
      "needs_background": "light"
     },
     "output_type": "display_data"
    }
   ],
   "source": [
    "lsvc = LinearSVC()\n",
    "\n",
    "build_and_eval_model(lsvc, X, y)"
   ]
  },
  {
   "cell_type": "code",
   "execution_count": 57,
   "metadata": {},
   "outputs": [
    {
     "name": "stdout",
     "output_type": "stream",
     "text": [
      "Running report for model MultinomialNB()\n",
      "\n",
      "\n",
      "Accuracy 0.823810\n",
      "              precision    recall  f1-score   support\n",
      "\n",
      "           0       0.89      0.90      0.90       115\n",
      "           1       0.93      0.91      0.92       123\n",
      "           2       0.86      0.83      0.84       103\n",
      "           3       0.86      0.83      0.85       100\n",
      "           4       0.72      0.66      0.69        98\n",
      "           5       0.90      0.68      0.77       102\n",
      "           6       0.85      0.91      0.88       114\n",
      "           7       0.94      0.85      0.89       103\n",
      "           8       0.62      0.80      0.70        85\n",
      "           9       0.70      0.81      0.75       107\n",
      "\n",
      "    accuracy                           0.82      1050\n",
      "   macro avg       0.83      0.82      0.82      1050\n",
      "weighted avg       0.83      0.82      0.82      1050\n",
      "\n"
     ]
    },
    {
     "name": "stderr",
     "output_type": "stream",
     "text": [
      "C:\\Users\\jetbu\\AppData\\Local\\Packages\\PythonSoftwareFoundation.Python.3.10_qbz5n2kfra8p0\\LocalCache\\local-packages\\Python310\\site-packages\\sklearn\\utils\\deprecation.py:87: FutureWarning: Function plot_confusion_matrix is deprecated; Function `plot_confusion_matrix` is deprecated in 1.0 and will be removed in 1.2. Use one of the class methods: ConfusionMatrixDisplay.from_predictions or ConfusionMatrixDisplay.from_estimator.\n",
      "  warnings.warn(msg, category=FutureWarning)\n"
     ]
    },
    {
     "data": {
      "text/html": [
       "<style>#sk-container-id-5 {color: black;background-color: white;}#sk-container-id-5 pre{padding: 0;}#sk-container-id-5 div.sk-toggleable {background-color: white;}#sk-container-id-5 label.sk-toggleable__label {cursor: pointer;display: block;width: 100%;margin-bottom: 0;padding: 0.3em;box-sizing: border-box;text-align: center;}#sk-container-id-5 label.sk-toggleable__label-arrow:before {content: \"▸\";float: left;margin-right: 0.25em;color: #696969;}#sk-container-id-5 label.sk-toggleable__label-arrow:hover:before {color: black;}#sk-container-id-5 div.sk-estimator:hover label.sk-toggleable__label-arrow:before {color: black;}#sk-container-id-5 div.sk-toggleable__content {max-height: 0;max-width: 0;overflow: hidden;text-align: left;background-color: #f0f8ff;}#sk-container-id-5 div.sk-toggleable__content pre {margin: 0.2em;color: black;border-radius: 0.25em;background-color: #f0f8ff;}#sk-container-id-5 input.sk-toggleable__control:checked~div.sk-toggleable__content {max-height: 200px;max-width: 100%;overflow: auto;}#sk-container-id-5 input.sk-toggleable__control:checked~label.sk-toggleable__label-arrow:before {content: \"▾\";}#sk-container-id-5 div.sk-estimator input.sk-toggleable__control:checked~label.sk-toggleable__label {background-color: #d4ebff;}#sk-container-id-5 div.sk-label input.sk-toggleable__control:checked~label.sk-toggleable__label {background-color: #d4ebff;}#sk-container-id-5 input.sk-hidden--visually {border: 0;clip: rect(1px 1px 1px 1px);clip: rect(1px, 1px, 1px, 1px);height: 1px;margin: -1px;overflow: hidden;padding: 0;position: absolute;width: 1px;}#sk-container-id-5 div.sk-estimator {font-family: monospace;background-color: #f0f8ff;border: 1px dotted black;border-radius: 0.25em;box-sizing: border-box;margin-bottom: 0.5em;}#sk-container-id-5 div.sk-estimator:hover {background-color: #d4ebff;}#sk-container-id-5 div.sk-parallel-item::after {content: \"\";width: 100%;border-bottom: 1px solid gray;flex-grow: 1;}#sk-container-id-5 div.sk-label:hover label.sk-toggleable__label {background-color: #d4ebff;}#sk-container-id-5 div.sk-serial::before {content: \"\";position: absolute;border-left: 1px solid gray;box-sizing: border-box;top: 0;bottom: 0;left: 50%;z-index: 0;}#sk-container-id-5 div.sk-serial {display: flex;flex-direction: column;align-items: center;background-color: white;padding-right: 0.2em;padding-left: 0.2em;position: relative;}#sk-container-id-5 div.sk-item {position: relative;z-index: 1;}#sk-container-id-5 div.sk-parallel {display: flex;align-items: stretch;justify-content: center;background-color: white;position: relative;}#sk-container-id-5 div.sk-item::before, #sk-container-id-5 div.sk-parallel-item::before {content: \"\";position: absolute;border-left: 1px solid gray;box-sizing: border-box;top: 0;bottom: 0;left: 50%;z-index: -1;}#sk-container-id-5 div.sk-parallel-item {display: flex;flex-direction: column;z-index: 1;position: relative;background-color: white;}#sk-container-id-5 div.sk-parallel-item:first-child::after {align-self: flex-end;width: 50%;}#sk-container-id-5 div.sk-parallel-item:last-child::after {align-self: flex-start;width: 50%;}#sk-container-id-5 div.sk-parallel-item:only-child::after {width: 0;}#sk-container-id-5 div.sk-dashed-wrapped {border: 1px dashed gray;margin: 0 0.4em 0.5em 0.4em;box-sizing: border-box;padding-bottom: 0.4em;background-color: white;}#sk-container-id-5 div.sk-label label {font-family: monospace;font-weight: bold;display: inline-block;line-height: 1.2em;}#sk-container-id-5 div.sk-label-container {text-align: center;}#sk-container-id-5 div.sk-container {/* jupyter's `normalize.less` sets `[hidden] { display: none; }` but bootstrap.min.css set `[hidden] { display: none !important; }` so we also need the `!important` here to be able to override the default hidden behavior on the sphinx rendered scikit-learn.org. See: https://github.com/scikit-learn/scikit-learn/issues/21755 */display: inline-block !important;position: relative;}#sk-container-id-5 div.sk-text-repr-fallback {display: none;}</style><div id=\"sk-container-id-5\" class=\"sk-top-container\"><div class=\"sk-text-repr-fallback\"><pre>MultinomialNB()</pre><b>In a Jupyter environment, please rerun this cell to show the HTML representation or trust the notebook. <br />On GitHub, the HTML representation is unable to render, please try loading this page with nbviewer.org.</b></div><div class=\"sk-container\" hidden><div class=\"sk-item\"><div class=\"sk-estimator sk-toggleable\"><input class=\"sk-toggleable__control sk-hidden--visually\" id=\"sk-estimator-id-5\" type=\"checkbox\" checked><label for=\"sk-estimator-id-5\" class=\"sk-toggleable__label sk-toggleable__label-arrow\">MultinomialNB</label><div class=\"sk-toggleable__content\"><pre>MultinomialNB()</pre></div></div></div></div></div>"
      ],
      "text/plain": [
       "MultinomialNB()"
      ]
     },
     "execution_count": 57,
     "metadata": {},
     "output_type": "execute_result"
    },
    {
     "data": {
      "image/png": "[encoded data removed]",
      "text/plain": [
       "<Figure size 936x936 with 2 Axes>"
      ]
     },
     "metadata": {
      "needs_background": "light"
     },
     "output_type": "display_data"
    }
   ],
   "source": [
    "from sklearn.naive_bayes import MultinomialNB\n",
    "mnb = MultinomialNB()\n",
    "build_and_eval_model(mnb, X, y)"
   ]
  },
  {
   "cell_type": "code",
   "execution_count": 58,
   "metadata": {},
   "outputs": [
    {
     "name": "stdout",
     "output_type": "stream",
     "text": [
      "Running report for model SVC()\n",
      "\n",
      "\n",
      "Accuracy 0.939048\n",
      "              precision    recall  f1-score   support\n",
      "\n",
      "           0       0.96      0.98      0.97       115\n",
      "           1       0.98      0.97      0.97       123\n",
      "           2       0.91      0.90      0.91       103\n",
      "           3       0.93      0.88      0.90       100\n",
      "           4       0.92      0.93      0.92        98\n",
      "           5       0.92      0.96      0.94       102\n",
      "           6       0.94      0.98      0.96       114\n",
      "           7       0.97      0.93      0.95       103\n",
      "           8       0.95      0.91      0.93        85\n",
      "           9       0.92      0.93      0.92       107\n",
      "\n",
      "    accuracy                           0.94      1050\n",
      "   macro avg       0.94      0.94      0.94      1050\n",
      "weighted avg       0.94      0.94      0.94      1050\n",
      "\n"
     ]
    },
    {
     "name": "stderr",
     "output_type": "stream",
     "text": [
      "C:\\Users\\jetbu\\AppData\\Local\\Packages\\PythonSoftwareFoundation.Python.3.10_qbz5n2kfra8p0\\LocalCache\\local-packages\\Python310\\site-packages\\sklearn\\utils\\deprecation.py:87: FutureWarning: Function plot_confusion_matrix is deprecated; Function `plot_confusion_matrix` is deprecated in 1.0 and will be removed in 1.2. Use one of the class methods: ConfusionMatrixDisplay.from_predictions or ConfusionMatrixDisplay.from_estimator.\n",
      "  warnings.warn(msg, category=FutureWarning)\n"
     ]
    },
    {
     "data": {
      "text/html": [
       "<style>#sk-container-id-6 {color: black;background-color: white;}#sk-container-id-6 pre{padding: 0;}#sk-container-id-6 div.sk-toggleable {background-color: white;}#sk-container-id-6 label.sk-toggleable__label {cursor: pointer;display: block;width: 100%;margin-bottom: 0;padding: 0.3em;box-sizing: border-box;text-align: center;}#sk-container-id-6 label.sk-toggleable__label-arrow:before {content: \"▸\";float: left;margin-right: 0.25em;color: #696969;}#sk-container-id-6 label.sk-toggleable__label-arrow:hover:before {color: black;}#sk-container-id-6 div.sk-estimator:hover label.sk-toggleable__label-arrow:before {color: black;}#sk-container-id-6 div.sk-toggleable__content {max-height: 0;max-width: 0;overflow: hidden;text-align: left;background-color: #f0f8ff;}#sk-container-id-6 div.sk-toggleable__content pre {margin: 0.2em;color: black;border-radius: 0.25em;background-color: #f0f8ff;}#sk-container-id-6 input.sk-toggleable__control:checked~div.sk-toggleable__content {max-height: 200px;max-width: 100%;overflow: auto;}#sk-container-id-6 input.sk-toggleable__control:checked~label.sk-toggleable__label-arrow:before {content: \"▾\";}#sk-container-id-6 div.sk-estimator input.sk-toggleable__control:checked~label.sk-toggleable__label {background-color: #d4ebff;}#sk-container-id-6 div.sk-label input.sk-toggleable__control:checked~label.sk-toggleable__label {background-color: #d4ebff;}#sk-container-id-6 input.sk-hidden--visually {border: 0;clip: rect(1px 1px 1px 1px);clip: rect(1px, 1px, 1px, 1px);height: 1px;margin: -1px;overflow: hidden;padding: 0;position: absolute;width: 1px;}#sk-container-id-6 div.sk-estimator {font-family: monospace;background-color: #f0f8ff;border: 1px dotted black;border-radius: 0.25em;box-sizing: border-box;margin-bottom: 0.5em;}#sk-container-id-6 div.sk-estimator:hover {background-color: #d4ebff;}#sk-container-id-6 div.sk-parallel-item::after {content: \"\";width: 100%;border-bottom: 1px solid gray;flex-grow: 1;}#sk-container-id-6 div.sk-label:hover label.sk-toggleable__label {background-color: #d4ebff;}#sk-container-id-6 div.sk-serial::before {content: \"\";position: absolute;border-left: 1px solid gray;box-sizing: border-box;top: 0;bottom: 0;left: 50%;z-index: 0;}#sk-container-id-6 div.sk-serial {display: flex;flex-direction: column;align-items: center;background-color: white;padding-right: 0.2em;padding-left: 0.2em;position: relative;}#sk-container-id-6 div.sk-item {position: relative;z-index: 1;}#sk-container-id-6 div.sk-parallel {display: flex;align-items: stretch;justify-content: center;background-color: white;position: relative;}#sk-container-id-6 div.sk-item::before, #sk-container-id-6 div.sk-parallel-item::before {content: \"\";position: absolute;border-left: 1px solid gray;box-sizing: border-box;top: 0;bottom: 0;left: 50%;z-index: -1;}#sk-container-id-6 div.sk-parallel-item {display: flex;flex-direction: column;z-index: 1;position: relative;background-color: white;}#sk-container-id-6 div.sk-parallel-item:first-child::after {align-self: flex-end;width: 50%;}#sk-container-id-6 div.sk-parallel-item:last-child::after {align-self: flex-start;width: 50%;}#sk-container-id-6 div.sk-parallel-item:only-child::after {width: 0;}#sk-container-id-6 div.sk-dashed-wrapped {border: 1px dashed gray;margin: 0 0.4em 0.5em 0.4em;box-sizing: border-box;padding-bottom: 0.4em;background-color: white;}#sk-container-id-6 div.sk-label label {font-family: monospace;font-weight: bold;display: inline-block;line-height: 1.2em;}#sk-container-id-6 div.sk-label-container {text-align: center;}#sk-container-id-6 div.sk-container {/* jupyter's `normalize.less` sets `[hidden] { display: none; }` but bootstrap.min.css set `[hidden] { display: none !important; }` so we also need the `!important` here to be able to override the default hidden behavior on the sphinx rendered scikit-learn.org. See: https://github.com/scikit-learn/scikit-learn/issues/21755 */display: inline-block !important;position: relative;}#sk-container-id-6 div.sk-text-repr-fallback {display: none;}</style><div id=\"sk-container-id-6\" class=\"sk-top-container\"><div class=\"sk-text-repr-fallback\"><pre>SVC()</pre><b>In a Jupyter environment, please rerun this cell to show the HTML representation or trust the notebook. <br />On GitHub, the HTML representation is unable to render, please try loading this page with nbviewer.org.</b></div><div class=\"sk-container\" hidden><div class=\"sk-item\"><div class=\"sk-estimator sk-toggleable\"><input class=\"sk-toggleable__control sk-hidden--visually\" id=\"sk-estimator-id-6\" type=\"checkbox\" checked><label for=\"sk-estimator-id-6\" class=\"sk-toggleable__label sk-toggleable__label-arrow\">SVC</label><div class=\"sk-toggleable__content\"><pre>SVC()</pre></div></div></div></div></div>"
      ],
      "text/plain": [
       "SVC()"
      ]
     },
     "execution_count": 58,
     "metadata": {},
     "output_type": "execute_result"
    },
    {
     "data": {
      "image/png": "[encoded data removed]",
      "text/plain": [
       "<Figure size 936x936 with 2 Axes>"
      ]
     },
     "metadata": {
      "needs_background": "light"
     },
     "output_type": "display_data"
    }
   ],
   "source": [
    "model = SVC()\n",
    "build_and_eval_model(model, X, y)"
   ]
  },
  {
   "cell_type": "code",
   "execution_count": null,
   "metadata": {},
   "outputs": [],
   "source": []
  }
 ],
 "metadata": {
  "kernelspec": {
   "display_name": "Python 3.10.7 64-bit (microsoft store)",
   "language": "python",
   "name": "python3"
  },
  "language_info": {
   "codemirror_mode": {
    "name": "ipython",
    "version": 3
   },
   "file_extension": ".py",
   "mimetype": "text/x-python",
   "name": "python",
   "nbconvert_exporter": "python",
   "pygments_lexer": "ipython3",
   "version": "3.10.8"
  },
  "vscode": {
   "interpreter": {
    "hash": "a93a5bea36b3defe878d816dd7925d35ab2abd8903126becefe0d06d8deb3ff3"
   }
  }
 },
 "nbformat": 4,
 "nbformat_minor": 2
}
