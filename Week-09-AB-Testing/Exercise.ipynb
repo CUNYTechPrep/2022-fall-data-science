{
 "cells": [
  {
   "cell_type": "markdown",
   "id": "marine-stock",
   "metadata": {},
   "source": [
    "# Exercise with A/B Testing\n",
    "\n",
    "### Prompt\n",
    "\n",
    "Let’s imagine you work on the For You Page at TikTok. Your team decides that instead of a heart button, they want to change it to star hoping that it will lead to a higher engagement/like rate. The product manager told you that the current conversion rate is about 6% on average throughout the year, and that the team would be happy with an increase of 3%, meaning that the new design will be considered a success if it raises the engagement rate to 9%.\n",
    "\n",
    "Before rolling out the change, the team would be more comfortable testing it on a small number of users to see how it performs, so you suggest running an A/B test on a subset of the user base users."
   ]
  },
  {
   "cell_type": "code",
   "execution_count": 46,
   "id": "streaming-honor",
   "metadata": {},
   "outputs": [],
   "source": [
    "# Packages imports\n",
    "import numpy as np\n",
    "import pandas as pd\n",
    "\n",
    "# probability distributions & statistical functions\n",
    "import scipy.stats as stats\n",
    "# estimating statistical models\n",
    "import statsmodels.stats.api as sms\n",
    "\n",
    "import matplotlib.pyplot as plt\n",
    "import seaborn as sns\n",
    "\n",
    "#rounding function\n",
    "from math import ceil\n",
    "\n"
   ]
  },
  {
   "cell_type": "markdown",
   "id": "seeing-worse",
   "metadata": {},
   "source": [
    "### Sample Size Calculation"
   ]
  },
  {
   "cell_type": "code",
   "execution_count": 1,
   "id": "popular-permit",
   "metadata": {},
   "outputs": [],
   "source": [
    "# Calculate effect size based on our expected rates\n"
   ]
  },
  {
   "cell_type": "code",
   "execution_count": null,
   "id": "moving-regression",
   "metadata": {},
   "outputs": [],
   "source": [
    "# Calculate sample size needed\n"
   ]
  },
  {
   "cell_type": "markdown",
   "id": "crucial-editing",
   "metadata": {},
   "source": [
    "### Collecting and preparing the data"
   ]
  },
  {
   "cell_type": "code",
   "execution_count": 7,
   "id": "literary-separate",
   "metadata": {},
   "outputs": [],
   "source": [
    "# Load the tiktok_data.csv into a dataframe\n",
    "\n"
   ]
  },
  {
   "cell_type": "code",
   "execution_count": 8,
   "id": "described-matrix",
   "metadata": {},
   "outputs": [],
   "source": [
    "# Get the info of the dataframe\n",
    "\n"
   ]
  },
  {
   "cell_type": "code",
   "execution_count": 9,
   "id": "metallic-providence",
   "metadata": {},
   "outputs": [],
   "source": [
    "# Make sure all the control group are seeing the star button and viceversa\n"
   ]
  },
  {
   "cell_type": "code",
   "execution_count": 10,
   "id": "fancy-lucas",
   "metadata": {},
   "outputs": [],
   "source": [
    "# Check that no users have been sampled multiple times \n",
    "\n"
   ]
  },
  {
   "cell_type": "code",
   "execution_count": 11,
   "id": "appreciated-thomas",
   "metadata": {},
   "outputs": [],
   "source": [
    "# If there are users who have been sampled multiple times, remove them from the dataframe\n",
    "\n"
   ]
  },
  {
   "cell_type": "markdown",
   "id": "skilled-apple",
   "metadata": {},
   "source": [
    "#### Now that our DataFrame is nice and clean, we can proceed and sample n=4720 entries for each of the groups. We can use pandas' DataFrame.sample() method to do this, which will perform Simple Random Sampling for us."
   ]
  },
  {
   "cell_type": "code",
   "execution_count": 12,
   "id": "absolute-runner",
   "metadata": {},
   "outputs": [],
   "source": [
    "# Perform simple random sampling to split the data into control and treatment\n",
    "\n"
   ]
  },
  {
   "cell_type": "code",
   "execution_count": 13,
   "id": "durable-belfast",
   "metadata": {},
   "outputs": [],
   "source": [
    "# Create one table called ab_test that has both the cleaned control and treatment data\n",
    "\n"
   ]
  },
  {
   "cell_type": "code",
   "execution_count": 14,
   "id": "conservative-occasions",
   "metadata": {},
   "outputs": [],
   "source": [
    "# Count the test groups to make sure that they're balanced \n",
    "\n"
   ]
  },
  {
   "cell_type": "markdown",
   "id": "metric-skill",
   "metadata": {},
   "source": [
    "### Analysis Visualization"
   ]
  },
  {
   "cell_type": "code",
   "execution_count": 16,
   "id": "satisfied-victoria",
   "metadata": {},
   "outputs": [],
   "source": [
    "# Find the like rate by group\n",
    "\n",
    "\n",
    "# Find the Std. deviation of the proportion\n",
    "\n",
    "\n",
    "# Find the Std. error of the proportion (std / sqrt(n))\n",
    "\n",
    "\n",
    "# Calculate the final like rate\n"
   ]
  },
  {
   "cell_type": "code",
   "execution_count": 17,
   "id": "reflected-ecology",
   "metadata": {},
   "outputs": [],
   "source": [
    "# Plot the like rate by group on a bar plot\n",
    "\n"
   ]
  },
  {
   "cell_type": "markdown",
   "id": "adolescent-footage",
   "metadata": {},
   "source": [
    "### Testing for Stat Sig"
   ]
  },
  {
   "cell_type": "code",
   "execution_count": 19,
   "id": "precious-chicken",
   "metadata": {},
   "outputs": [],
   "source": [
    "from statsmodels.stats.proportion import proportions_ztest, proportion_confint\n",
    "\n",
    "# Get the like count for both control and treatment groups\n",
    "\n",
    "\n",
    "# Get the number of samples in both groups\n",
    "\n",
    "\n",
    "# Sum up the number of successes (likes) in both groups\n"
   ]
  },
  {
   "cell_type": "code",
   "execution_count": 122,
   "id": "lesbian-emperor",
   "metadata": {},
   "outputs": [],
   "source": [
    "# Find the z statistic and p value for proportions based on normal ztest\n",
    "\n",
    "\n",
    "# Find the confidence intervals for each test group\n",
    "\n"
   ]
  },
  {
   "cell_type": "code",
   "execution_count": 18,
   "id": "filled-quality",
   "metadata": {},
   "outputs": [],
   "source": [
    "# print z statistic\n",
    "\n",
    "# print p-value\n",
    "\n",
    "# print ci 95% for control group\n",
    "\n",
    "# print ci 95% for treatment group\n"
   ]
  },
  {
   "cell_type": "markdown",
   "id": "closing-technique",
   "metadata": {},
   "source": [
    "### Were the results signficant? "
   ]
  },
  {
   "cell_type": "code",
   "execution_count": null,
   "id": "respected-uganda",
   "metadata": {},
   "outputs": [],
   "source": []
  },
  {
   "cell_type": "markdown",
   "id": "connected-tiffany",
   "metadata": {},
   "source": [
    "### What would you advise the engineering team to do moving forward?"
   ]
  },
  {
   "cell_type": "code",
   "execution_count": null,
   "id": "polar-power",
   "metadata": {},
   "outputs": [],
   "source": []
  }
 ],
 "metadata": {
  "kernelspec": {
   "display_name": "Python 3",
   "language": "python",
   "name": "python3"
  },
  "language_info": {
   "codemirror_mode": {
    "name": "ipython",
    "version": 3
   },
   "file_extension": ".py",
   "mimetype": "text/x-python",
   "name": "python",
   "nbconvert_exporter": "python",
   "pygments_lexer": "ipython3",
   "version": "3.9.0"
  }
 },
 "nbformat": 4,
 "nbformat_minor": 5
}
